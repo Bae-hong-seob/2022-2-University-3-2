{
  "nbformat": 4,
  "nbformat_minor": 0,
  "metadata": {
    "colab": {
      "provenance": [],
      "collapsed_sections": [],
      "authorship_tag": "ABX9TyNWgNmNSY62mSOduQVP6cnr",
      "include_colab_link": true
    },
    "kernelspec": {
      "name": "python3",
      "display_name": "Python 3"
    },
    "language_info": {
      "name": "python"
    }
  },
  "cells": [
    {
      "cell_type": "markdown",
      "metadata": {
        "id": "view-in-github",
        "colab_type": "text"
      },
      "source": [
        "<a href=\"https://colab.research.google.com/github/Bae-hong-seob/University-3-2/blob/main/Big_data_process_and_application/3_Dataframe.ipynb\" target=\"_parent\"><img src=\"https://colab.research.google.com/assets/colab-badge.svg\" alt=\"Open In Colab\"/></a>"
      ]
    },
    {
      "cell_type": "code",
      "execution_count": 1,
      "metadata": {
        "colab": {
          "base_uri": "https://localhost:8080/"
        },
        "id": "3tWXRv-9X59X",
        "outputId": "47372577-8caf-48b9-efa0-f69e86bcf5ae"
      },
      "outputs": [
        {
          "output_type": "stream",
          "name": "stdout",
          "text": [
            "Looking in indexes: https://pypi.org/simple, https://us-python.pkg.dev/colab-wheels/public/simple/\n",
            "Collecting pyspark\n",
            "  Downloading pyspark-3.3.0.tar.gz (281.3 MB)\n",
            "\u001b[K     |████████████████████████████████| 281.3 MB 47 kB/s \n",
            "\u001b[?25hCollecting py4j==0.10.9.5\n",
            "  Downloading py4j-0.10.9.5-py2.py3-none-any.whl (199 kB)\n",
            "\u001b[K     |████████████████████████████████| 199 kB 44.4 MB/s \n",
            "\u001b[?25hBuilding wheels for collected packages: pyspark\n",
            "  Building wheel for pyspark (setup.py) ... \u001b[?25l\u001b[?25hdone\n",
            "  Created wheel for pyspark: filename=pyspark-3.3.0-py2.py3-none-any.whl size=281764026 sha256=ac10c1ffe47d14402a9e5cb20442372ff4944f0816abfbfcde748f9fac49c273\n",
            "  Stored in directory: /root/.cache/pip/wheels/7a/8e/1b/f73a52650d2e5f337708d9f6a1750d451a7349a867f928b885\n",
            "Successfully built pyspark\n",
            "Installing collected packages: py4j, pyspark\n",
            "Successfully installed py4j-0.10.9.5 pyspark-3.3.0\n",
            "The following package was automatically installed and is no longer required:\n",
            "  libnvidia-common-460\n",
            "Use 'apt autoremove' to remove it.\n",
            "The following additional packages will be installed:\n",
            "  openjdk-8-jre-headless\n",
            "Suggested packages:\n",
            "  openjdk-8-demo openjdk-8-source libnss-mdns fonts-dejavu-extra\n",
            "  fonts-ipafont-gothic fonts-ipafont-mincho fonts-wqy-microhei\n",
            "  fonts-wqy-zenhei fonts-indic\n",
            "The following NEW packages will be installed:\n",
            "  openjdk-8-jdk-headless openjdk-8-jre-headless\n",
            "0 upgraded, 2 newly installed, 0 to remove and 20 not upgraded.\n",
            "Need to get 36.6 MB of archives.\n",
            "After this operation, 143 MB of additional disk space will be used.\n",
            "Selecting previously unselected package openjdk-8-jre-headless:amd64.\n",
            "(Reading database ... 159447 files and directories currently installed.)\n",
            "Preparing to unpack .../openjdk-8-jre-headless_8u342-b07-0ubuntu1~18.04_amd64.deb ...\n",
            "Unpacking openjdk-8-jre-headless:amd64 (8u342-b07-0ubuntu1~18.04) ...\n",
            "Selecting previously unselected package openjdk-8-jdk-headless:amd64.\n",
            "Preparing to unpack .../openjdk-8-jdk-headless_8u342-b07-0ubuntu1~18.04_amd64.deb ...\n",
            "Unpacking openjdk-8-jdk-headless:amd64 (8u342-b07-0ubuntu1~18.04) ...\n",
            "Setting up openjdk-8-jre-headless:amd64 (8u342-b07-0ubuntu1~18.04) ...\n",
            "update-alternatives: using /usr/lib/jvm/java-8-openjdk-amd64/jre/bin/orbd to provide /usr/bin/orbd (orbd) in auto mode\n",
            "update-alternatives: using /usr/lib/jvm/java-8-openjdk-amd64/jre/bin/servertool to provide /usr/bin/servertool (servertool) in auto mode\n",
            "update-alternatives: using /usr/lib/jvm/java-8-openjdk-amd64/jre/bin/tnameserv to provide /usr/bin/tnameserv (tnameserv) in auto mode\n",
            "Setting up openjdk-8-jdk-headless:amd64 (8u342-b07-0ubuntu1~18.04) ...\n",
            "update-alternatives: using /usr/lib/jvm/java-8-openjdk-amd64/bin/idlj to provide /usr/bin/idlj (idlj) in auto mode\n",
            "update-alternatives: using /usr/lib/jvm/java-8-openjdk-amd64/bin/wsimport to provide /usr/bin/wsimport (wsimport) in auto mode\n",
            "update-alternatives: using /usr/lib/jvm/java-8-openjdk-amd64/bin/jsadebugd to provide /usr/bin/jsadebugd (jsadebugd) in auto mode\n",
            "update-alternatives: using /usr/lib/jvm/java-8-openjdk-amd64/bin/native2ascii to provide /usr/bin/native2ascii (native2ascii) in auto mode\n",
            "update-alternatives: using /usr/lib/jvm/java-8-openjdk-amd64/bin/javah to provide /usr/bin/javah (javah) in auto mode\n",
            "update-alternatives: using /usr/lib/jvm/java-8-openjdk-amd64/bin/clhsdb to provide /usr/bin/clhsdb (clhsdb) in auto mode\n",
            "update-alternatives: using /usr/lib/jvm/java-8-openjdk-amd64/bin/xjc to provide /usr/bin/xjc (xjc) in auto mode\n",
            "update-alternatives: using /usr/lib/jvm/java-8-openjdk-amd64/bin/hsdb to provide /usr/bin/hsdb (hsdb) in auto mode\n",
            "update-alternatives: using /usr/lib/jvm/java-8-openjdk-amd64/bin/schemagen to provide /usr/bin/schemagen (schemagen) in auto mode\n",
            "update-alternatives: using /usr/lib/jvm/java-8-openjdk-amd64/bin/extcheck to provide /usr/bin/extcheck (extcheck) in auto mode\n",
            "update-alternatives: using /usr/lib/jvm/java-8-openjdk-amd64/bin/jhat to provide /usr/bin/jhat (jhat) in auto mode\n",
            "update-alternatives: using /usr/lib/jvm/java-8-openjdk-amd64/bin/wsgen to provide /usr/bin/wsgen (wsgen) in auto mode\n"
          ]
        }
      ],
      "source": [
        "!pip install pyspark\n",
        "!apt install openjdk-8-jdk-headless -qq"
      ]
    },
    {
      "cell_type": "code",
      "source": [
        "import os\n",
        "\n",
        "os.environ[\"JAVA_HOME\"] = \"/usr/lib/jvm/java-8-openjdk-amd64\""
      ],
      "metadata": {
        "id": "AZAllzh9YbVM"
      },
      "execution_count": 2,
      "outputs": []
    },
    {
      "cell_type": "code",
      "source": [
        "import pyspark\n",
        "from pyspark.sql import *\n",
        "\n",
        "# 두 줄은 붙어서 작성되어야한다.\n",
        "import pyspark.sql.functions as functions \n",
        "from pyspark.sql.types import *\n",
        "from pyspark import SparkContext, SparkConf\n"
      ],
      "metadata": {
        "id": "poTsgiQaYeQ7"
      },
      "execution_count": 3,
      "outputs": []
    },
    {
      "cell_type": "code",
      "source": [
        "sc = pyspark.SparkContext()\n",
        "spark = SparkSession.builder.getOrCreate()"
      ],
      "metadata": {
        "id": "9UeP5VobYgPC"
      },
      "execution_count": 4,
      "outputs": []
    },
    {
      "cell_type": "code",
      "source": [
        "# strinJSONRDD RDD생성\n",
        "\n",
        "stringJSONRDD = sc.parallelize(('''{'id':'123', 'name':'katie', 'age':19,'eyeColor':'brown'}''', \n",
        "                                '''{'id':'234', 'name':'Michael', 'age':22,'eyeColor':'green'}''',\n",
        "                                '''{'id':'345', 'name':'Simone', 'age':23,'eyeColor':'blue'}'''))"
      ],
      "metadata": {
        "id": "gUss4SXsZvMI"
      },
      "execution_count": 5,
      "outputs": []
    },
    {
      "cell_type": "code",
      "source": [
        "# RDD를 Dataframe 객체로 변환\n",
        "swimmersJSON = spark.read.json(stringJSONRDD)"
      ],
      "metadata": {
        "id": "deZew1B1ifQa"
      },
      "execution_count": 6,
      "outputs": []
    },
    {
      "cell_type": "code",
      "source": [
        "swimmersJSON.show()"
      ],
      "metadata": {
        "colab": {
          "base_uri": "https://localhost:8080/"
        },
        "id": "oW_-ZmFtill-",
        "outputId": "9fd7bbff-85d7-4ce2-d01a-d4c8d676d0be"
      },
      "execution_count": 7,
      "outputs": [
        {
          "output_type": "stream",
          "name": "stdout",
          "text": [
            "+---+--------+---+-------+\n",
            "|age|eyeColor| id|   name|\n",
            "+---+--------+---+-------+\n",
            "| 19|   brown|123|  katie|\n",
            "| 22|   green|234|Michael|\n",
            "| 23|    blue|345| Simone|\n",
            "+---+--------+---+-------+\n",
            "\n"
          ]
        }
      ]
    },
    {
      "cell_type": "markdown",
      "source": [
        "ㄴ RDD 형태를 Dataframe 형태로 변환하여 출력함. show()함수 사용"
      ],
      "metadata": {
        "id": "d4g2V_fVi422"
      }
    },
    {
      "cell_type": "code",
      "source": [
        "# SQL 쿼리를 통해 데이터 확인.\n",
        "swimmersJSON.createOrReplaceTempView('swimmersJSON')\n",
        "print(spark.sql('select * from swimmersJSON where age>20').collect())"
      ],
      "metadata": {
        "colab": {
          "base_uri": "https://localhost:8080/"
        },
        "id": "RvXAs_JIiyIa",
        "outputId": "6554f6a0-4148-45c9-d83b-419fb49c0b9f"
      },
      "execution_count": 8,
      "outputs": [
        {
          "output_type": "stream",
          "name": "stdout",
          "text": [
            "[Row(age=22, eyeColor='green', id='234', name='Michael'), Row(age=23, eyeColor='blue', id='345', name='Simone')]\n"
          ]
        }
      ]
    },
    {
      "cell_type": "markdown",
      "source": [
        "ㄴ select는 레코드 추출. 따라서 조건문은 where절에 삽입"
      ],
      "metadata": {
        "id": "4TWgikygjfBl"
      }
    },
    {
      "cell_type": "code",
      "source": [
        "print('---------------------------------------')\n",
        "spark.sql('select age>20 from swimmersJSON').collect()"
      ],
      "metadata": {
        "colab": {
          "base_uri": "https://localhost:8080/"
        },
        "id": "YIJ001FijHhk",
        "outputId": "0f260775-375b-4a1a-e0f4-87e0185b0410"
      },
      "execution_count": 9,
      "outputs": [
        {
          "output_type": "stream",
          "name": "stdout",
          "text": [
            "---------------------------------------\n"
          ]
        },
        {
          "output_type": "execute_result",
          "data": {
            "text/plain": [
              "[Row((age > 20)=False), Row((age > 20)=True), Row((age > 20)=True)]"
            ]
          },
          "metadata": {},
          "execution_count": 9
        }
      ]
    },
    {
      "cell_type": "code",
      "source": [
        "swimmersJSON.printSchema()"
      ],
      "metadata": {
        "colab": {
          "base_uri": "https://localhost:8080/"
        },
        "id": "ExW4pKwakCwF",
        "outputId": "46cd1c30-d2c2-4c84-9bd8-1e2eab46d154"
      },
      "execution_count": 10,
      "outputs": [
        {
          "output_type": "stream",
          "name": "stdout",
          "text": [
            "root\n",
            " |-- age: long (nullable = true)\n",
            " |-- eyeColor: string (nullable = true)\n",
            " |-- id: string (nullable = true)\n",
            " |-- name: string (nullable = true)\n",
            "\n"
          ]
        }
      ]
    },
    {
      "cell_type": "markdown",
      "source": [
        "ㄴ 구조-- 칼럼명: 자료형 (Null가능성)"
      ],
      "metadata": {
        "id": "DTiTFIWrkR8Y"
      }
    },
    {
      "cell_type": "markdown",
      "source": [
        "# 스키마 변경하기 (직접 만들기)"
      ],
      "metadata": {
        "id": "T-tk4Jp_lJvy"
      }
    },
    {
      "cell_type": "code",
      "source": [
        "stringCSVRDD = sc.parallelize([(123,'Katie',19,'brown'),\n",
        "                               (234,'Michael', 22, 'green'),\n",
        "                               (345, 'Simone', 23, 'blue')])"
      ],
      "metadata": {
        "id": "UuRiEZL4lNjB"
      },
      "execution_count": 11,
      "outputs": []
    },
    {
      "cell_type": "code",
      "source": [
        "# 스키마 명시(=지정)\n",
        "# 세번째 parameter(=null 값 허용여부) True: Null값이 들어와도 ok\n",
        "schema = StructType([\n",
        "    StructField('id', LongType(), True),\n",
        "    StructField('name', StringType(), True),\n",
        "    StructField('age', LongType(), True),\n",
        "    StructField('eyeColor', StringType(), True)\n",
        "])"
      ],
      "metadata": {
        "id": "dvzrB_IwkWrB"
      },
      "execution_count": 12,
      "outputs": []
    },
    {
      "cell_type": "code",
      "source": [
        "# 데이터만 존재하는 stringCSVRDD에 지정한 스키마(shcema) 적용\n",
        "swimmers = spark.createDataFrame(stringCSVRDD, schema)"
      ],
      "metadata": {
        "id": "dXw-sR25l6f3"
      },
      "execution_count": 13,
      "outputs": []
    },
    {
      "cell_type": "code",
      "source": [
        "# shcema 적용된거 확인\n",
        "swimmers.printSchema()"
      ],
      "metadata": {
        "colab": {
          "base_uri": "https://localhost:8080/"
        },
        "id": "B1_uUHPvl_bg",
        "outputId": "9ac842b1-86f5-44fc-f2dd-ff8730c787b3"
      },
      "execution_count": 14,
      "outputs": [
        {
          "output_type": "stream",
          "name": "stdout",
          "text": [
            "root\n",
            " |-- id: long (nullable = true)\n",
            " |-- name: string (nullable = true)\n",
            " |-- age: long (nullable = true)\n",
            " |-- eyeColor: string (nullable = true)\n",
            "\n"
          ]
        }
      ]
    },
    {
      "cell_type": "markdown",
      "source": [
        "# DataFrame 다뤄보기"
      ],
      "metadata": {
        "id": "C492CLzQmPnY"
      }
    },
    {
      "cell_type": "code",
      "source": [
        "# 행의 개수 출력\n",
        "swimmers.createOrReplaceTempView('swimmers')\n",
        "spark.sql('select count(1) from swimmers').show()"
      ],
      "metadata": {
        "colab": {
          "base_uri": "https://localhost:8080/"
        },
        "id": "Gh52FRcomBHv",
        "outputId": "8971676b-9620-4b08-ba40-3a4d5b2eda7c"
      },
      "execution_count": 15,
      "outputs": [
        {
          "output_type": "stream",
          "name": "stdout",
          "text": [
            "+--------+\n",
            "|count(1)|\n",
            "+--------+\n",
            "|       3|\n",
            "+--------+\n",
            "\n"
          ]
        }
      ]
    },
    {
      "cell_type": "code",
      "source": [
        "# 필터문(=dataframe) 사용하기 sql where절이랑 똑같음\n",
        "swimmers.select('id','age').filter('age=22').show()"
      ],
      "metadata": {
        "colab": {
          "base_uri": "https://localhost:8080/"
        },
        "id": "_pjtUS1ymacX",
        "outputId": "6a35b603-b42a-4334-ad7d-fa6d5548c041"
      },
      "execution_count": 16,
      "outputs": [
        {
          "output_type": "stream",
          "name": "stdout",
          "text": [
            "+---+---+\n",
            "| id|age|\n",
            "+---+---+\n",
            "|234| 22|\n",
            "+---+---+\n",
            "\n"
          ]
        }
      ]
    },
    {
      "cell_type": "code",
      "source": [
        "spark.sql('select id, age from swimmers where age=22').show()"
      ],
      "metadata": {
        "colab": {
          "base_uri": "https://localhost:8080/"
        },
        "id": "UbAE4h6nmwi1",
        "outputId": "caf7a7bc-553d-44eb-af2f-8e88d7a43285"
      },
      "execution_count": 17,
      "outputs": [
        {
          "output_type": "stream",
          "name": "stdout",
          "text": [
            "+---+---+\n",
            "| id|age|\n",
            "+---+---+\n",
            "|234| 22|\n",
            "+---+---+\n",
            "\n"
          ]
        }
      ]
    },
    {
      "cell_type": "code",
      "source": [
        "# filter(조건문) 사용2\n",
        "swimmers.select('name','eyeColor').filter(\"eyeColor like 'b%'\").show() #이때 \" '' \" 큰따음표, 작은따음표로 어디까지 문자열인지 구분해줘야함"
      ],
      "metadata": {
        "colab": {
          "base_uri": "https://localhost:8080/"
        },
        "id": "l5B-WQPfm5TP",
        "outputId": "d569664e-80c2-4d97-835f-52a420d9d82d"
      },
      "execution_count": 18,
      "outputs": [
        {
          "output_type": "stream",
          "name": "stdout",
          "text": [
            "+------+--------+\n",
            "|  name|eyeColor|\n",
            "+------+--------+\n",
            "| Katie|   brown|\n",
            "|Simone|    blue|\n",
            "+------+--------+\n",
            "\n"
          ]
        }
      ]
    },
    {
      "cell_type": "code",
      "source": [
        "spark.sql('select name, eyeColor from swimmers where eyeColor like \"b%\"').show()"
      ],
      "metadata": {
        "colab": {
          "base_uri": "https://localhost:8080/"
        },
        "id": "yUrWHTEtnPC2",
        "outputId": "a081d794-ba2d-4088-bb47-4ae9d9a3228a"
      },
      "execution_count": 19,
      "outputs": [
        {
          "output_type": "stream",
          "name": "stdout",
          "text": [
            "+------+--------+\n",
            "|  name|eyeColor|\n",
            "+------+--------+\n",
            "| Katie|   brown|\n",
            "|Simone|    blue|\n",
            "+------+--------+\n",
            "\n"
          ]
        }
      ]
    },
    {
      "cell_type": "markdown",
      "source": [
        "# 9/28"
      ],
      "metadata": {
        "id": "ZzMMdYMtG3o2"
      }
    },
    {
      "cell_type": "markdown",
      "source": [
        "# 데이터 전처리 = cleaning 작업"
      ],
      "metadata": {
        "id": "-dz7SYjVFB-m"
      }
    },
    {
      "cell_type": "markdown",
      "source": [
        "**중복값 제거**\n",
        "1. .distinct() \n",
        "- 중복값 제거 (row의 전체 값이 같을 경우 삭제)\n",
        "\n",
        "2. .dropDuplicates()\n",
        "- 중복값 제거. but .distinct()와는 다르게 열을 선택하여 열에서만 제거 가능.\n",
        "- 제일 위에 있는거만 남는다.\n",
        "- but 파티션이 나누어져 있는 경우는 알 수 없음\n"
      ],
      "metadata": {
        "id": "2jNeu_nTFPik"
      }
    },
    {
      "cell_type": "code",
      "source": [
        "members = sc.parallelize([(1, 44.5, 159.9, 33, 'M'),\n",
        "                          (2, 66.2, 167.2, 45, 'M'),\n",
        "                          (3, 66.2, 172.6, 23, 'F'),\n",
        "                          (4, 42.5, 160.5, 33, 'M'),\n",
        "                          (5, 50.5, 147.2, 54, 'F'),\n",
        "                          (3, 66.2, 172.6, 23, 'F'),\n",
        "                          (6, 60.3, 171.2, 25, 'M'),\n",
        "                          ])"
      ],
      "metadata": {
        "id": "9M4DRBgyFFmW"
      },
      "execution_count": 20,
      "outputs": []
    },
    {
      "cell_type": "code",
      "source": [
        "schema = StructType([\n",
        "    StructField('id', LongType(), True),\n",
        "    StructField('weight', FloatType(), True),\n",
        "    StructField('height', FloatType(), True),\n",
        "    StructField('age', LongType(), True),\n",
        "    StructField('gender', StringType(), True),\n",
        "])\n",
        "\n",
        "members = spark.createDataFrame(members, schema)"
      ],
      "metadata": {
        "id": "DXF2RPMznc_A"
      },
      "execution_count": 21,
      "outputs": []
    },
    {
      "cell_type": "code",
      "source": [
        "members.show()"
      ],
      "metadata": {
        "colab": {
          "base_uri": "https://localhost:8080/"
        },
        "id": "GpyE_hw9Gba5",
        "outputId": "824dc1e6-20f4-4120-b894-b41f11e78791"
      },
      "execution_count": 22,
      "outputs": [
        {
          "output_type": "stream",
          "name": "stdout",
          "text": [
            "+---+------+------+---+------+\n",
            "| id|weight|height|age|gender|\n",
            "+---+------+------+---+------+\n",
            "|  1|  44.5| 159.9| 33|     M|\n",
            "|  2|  66.2| 167.2| 45|     M|\n",
            "|  3|  66.2| 172.6| 23|     F|\n",
            "|  4|  42.5| 160.5| 33|     M|\n",
            "|  5|  50.5| 147.2| 54|     F|\n",
            "|  3|  66.2| 172.6| 23|     F|\n",
            "|  6|  60.3| 171.2| 25|     M|\n",
            "+---+------+------+---+------+\n",
            "\n"
          ]
        }
      ]
    },
    {
      "cell_type": "code",
      "source": [
        "member_1 = members.distinct()\n",
        "member_1.show()"
      ],
      "metadata": {
        "colab": {
          "base_uri": "https://localhost:8080/"
        },
        "id": "1_uvi-GYGc-T",
        "outputId": "fe745196-19fc-4f24-ae6a-ceeb5ebe57e7"
      },
      "execution_count": 25,
      "outputs": [
        {
          "output_type": "stream",
          "name": "stdout",
          "text": [
            "+---+------+------+---+------+\n",
            "| id|weight|height|age|gender|\n",
            "+---+------+------+---+------+\n",
            "|  3|  66.2| 172.6| 23|     F|\n",
            "|  2|  66.2| 167.2| 45|     M|\n",
            "|  1|  44.5| 159.9| 33|     M|\n",
            "|  4|  42.5| 160.5| 33|     M|\n",
            "|  5|  50.5| 147.2| 54|     F|\n",
            "|  6|  60.3| 171.2| 25|     M|\n",
            "+---+------+------+---+------+\n",
            "\n"
          ]
        }
      ]
    },
    {
      "cell_type": "code",
      "source": [
        "member_2 = members.dropDuplicates(['weight'])\n",
        "member_2.show()"
      ],
      "metadata": {
        "colab": {
          "base_uri": "https://localhost:8080/"
        },
        "id": "9EqvM-D4Ghfb",
        "outputId": "5d979322-9202-48ad-8566-9fa81a3271e7"
      },
      "execution_count": 26,
      "outputs": [
        {
          "output_type": "stream",
          "name": "stdout",
          "text": [
            "+---+------+------+---+------+\n",
            "| id|weight|height|age|gender|\n",
            "+---+------+------+---+------+\n",
            "|  4|  42.5| 160.5| 33|     M|\n",
            "|  1|  44.5| 159.9| 33|     M|\n",
            "|  5|  50.5| 147.2| 54|     F|\n",
            "|  6|  60.3| 171.2| 25|     M|\n",
            "|  2|  66.2| 167.2| 45|     M|\n",
            "+---+------+------+---+------+\n",
            "\n"
          ]
        }
      ]
    },
    {
      "cell_type": "markdown",
      "source": [
        "3. withColumn()\n",
        "- 새로운 column 추가\n",
        "\n",
        "4. monotonically_increasing_id()\n",
        "- 단조증가(monotonical)하는 고유한 숫자값 생성"
      ],
      "metadata": {
        "id": "xzgg5vjGG52R"
      }
    },
    {
      "cell_type": "code",
      "source": [
        "members.withColumn('new_id', functions.monotonically_increasing_id()).show()"
      ],
      "metadata": {
        "colab": {
          "base_uri": "https://localhost:8080/"
        },
        "id": "emMooEuVGtU0",
        "outputId": "5443a076-fb28-491b-d9c6-3625e6a3fc28"
      },
      "execution_count": 32,
      "outputs": [
        {
          "output_type": "stream",
          "name": "stdout",
          "text": [
            "+---+------+------+---+------+----------+\n",
            "| id|weight|height|age|gender|    new_id|\n",
            "+---+------+------+---+------+----------+\n",
            "|  1|  44.5| 159.9| 33|     M|         0|\n",
            "|  2|  66.2| 167.2| 45|     M|         1|\n",
            "|  3|  66.2| 172.6| 23|     F|         2|\n",
            "|  4|  42.5| 160.5| 33|     M|8589934592|\n",
            "|  5|  50.5| 147.2| 54|     F|8589934593|\n",
            "|  3|  66.2| 172.6| 23|     F|8589934594|\n",
            "|  6|  60.3| 171.2| 25|     M|8589934595|\n",
            "+---+------+------+---+------+----------+\n",
            "\n"
          ]
        }
      ]
    },
    {
      "cell_type": "markdown",
      "source": [
        "**Null값 처리**\n",
        "\n",
        "Null값 해결 process\n",
        "1. 미관찰 값 파악\n",
        "2. null 많은 column은 제거\n",
        "3. 나머지 num은 추정값으로 채움. (결측치 대체)\n",
        "\n",
        "\n"
      ],
      "metadata": {
        "id": "QgRzXAyWHocA"
      }
    },
    {
      "cell_type": "code",
      "source": [
        "df_miss = spark.createDataFrame([(1, 143.5, 5.6, 28, 'M', 100000),\n",
        "                                 (2, 167.2, 5.4, 45, 'M', None),\n",
        "                                 (3, None, 5.2, None, None, None),\n",
        "                                 (4, 144.5, 5.9, 33, 'M', None),\n",
        "                                 (5, 133.2, 5.7, 54, 'F', None),\n",
        "                                 (6, 124.1, 5.2, None, 'F', None),\n",
        "                                 (7, 129.2, 5.3, 42, 'M', 76000)],\n",
        "                                ['id', 'height', 'weight', 'age', 'gender', 'income'])\n",
        "df_miss.show()"
      ],
      "metadata": {
        "colab": {
          "base_uri": "https://localhost:8080/"
        },
        "id": "9CWenOkcHkx2",
        "outputId": "750bc798-a765-4c14-d857-6ad7d4eef02e"
      },
      "execution_count": 28,
      "outputs": [
        {
          "output_type": "stream",
          "name": "stdout",
          "text": [
            "+---+------+------+----+------+------+\n",
            "| id|height|weight| age|gender|income|\n",
            "+---+------+------+----+------+------+\n",
            "|  1| 143.5|   5.6|  28|     M|100000|\n",
            "|  2| 167.2|   5.4|  45|     M|  null|\n",
            "|  3|  null|   5.2|null|  null|  null|\n",
            "|  4| 144.5|   5.9|  33|     M|  null|\n",
            "|  5| 133.2|   5.7|  54|     F|  null|\n",
            "|  6| 124.1|   5.2|null|     F|  null|\n",
            "|  7| 129.2|   5.3|  42|     M| 76000|\n",
            "+---+------+------+----+------+------+\n",
            "\n"
          ]
        }
      ]
    },
    {
      "cell_type": "code",
      "source": [
        "df_miss.rdd.map(\n",
        "    lambda row: (row['id'], sum((c==None for c in row))).collect()\n",
        ")"
      ],
      "metadata": {
        "id": "7GP5OSlNJPOF"
      },
      "execution_count": null,
      "outputs": []
    },
    {
      "cell_type": "markdown",
      "source": [
        "**column제거**"
      ],
      "metadata": {
        "id": "DI7MlnJEKF-b"
      }
    },
    {
      "cell_type": "code",
      "source": [
        "# df_miss 의 columns 중 income이 아닌 column을 순서대로 c가 배정받는다.\n",
        "# 따라서 column제거를 select를 통하여 구현\n",
        "df_miss_no_income = df_miss.select([c for c in df_miss.columns if c!= 'income'])"
      ],
      "metadata": {
        "id": "qKB2uKSsJe11"
      },
      "execution_count": 30,
      "outputs": []
    },
    {
      "cell_type": "code",
      "source": [
        "df_miss_no_income.show()"
      ],
      "metadata": {
        "colab": {
          "base_uri": "https://localhost:8080/"
        },
        "id": "cAF6LgSGJsKy",
        "outputId": "f3510d26-a714-463e-eb4e-86c8cc102c76"
      },
      "execution_count": 31,
      "outputs": [
        {
          "output_type": "stream",
          "name": "stdout",
          "text": [
            "+---+------+------+----+------+\n",
            "| id|height|weight| age|gender|\n",
            "+---+------+------+----+------+\n",
            "|  1| 143.5|   5.6|  28|     M|\n",
            "|  2| 167.2|   5.4|  45|     M|\n",
            "|  3|  null|   5.2|null|  null|\n",
            "|  4| 144.5|   5.9|  33|     M|\n",
            "|  5| 133.2|   5.7|  54|     F|\n",
            "|  6| 124.1|   5.2|null|     F|\n",
            "|  7| 129.2|   5.3|  42|     M|\n",
            "+---+------+------+----+------+\n",
            "\n"
          ]
        }
      ]
    },
    {
      "cell_type": "markdown",
      "source": [
        "**Null 값 제거**\n",
        "1. agg()\n",
        "- aggregate().\n",
        "- 열이나 행에 적용할 함수 입력받음.\n",
        "2. alias()\n",
        "- 새로운 이름 할당.\n",
        "3. fillna()\n",
        "- 결측치를 filnna(x), x값으로 변경"
      ],
      "metadata": {
        "id": "otzyBZj1KJmd"
      }
    },
    {
      "cell_type": "code",
      "source": [
        "means = df_miss_no_income.agg(\n",
        "    *[functions.mean(c).alias(c) for c in df_miss_no_income.columns if c != 'gender']\n",
        ").toPandas().to_dict('records')[0]"
      ],
      "metadata": {
        "id": "dTtnoKekJuDn"
      },
      "execution_count": 33,
      "outputs": []
    },
    {
      "cell_type": "code",
      "source": [
        "means"
      ],
      "metadata": {
        "colab": {
          "base_uri": "https://localhost:8080/"
        },
        "id": "LVgizoqTK4Ts",
        "outputId": "bfc4d924-9a1d-4d0f-90d1-af79e090f52a"
      },
      "execution_count": 34,
      "outputs": [
        {
          "output_type": "execute_result",
          "data": {
            "text/plain": [
              "{'id': 4.0,\n",
              " 'height': 140.28333333333333,\n",
              " 'weight': 5.471428571428571,\n",
              " 'age': 40.4}"
            ]
          },
          "metadata": {},
          "execution_count": 34
        }
      ]
    },
    {
      "cell_type": "code",
      "source": [
        "means['gender'] = 'missing'\n",
        "means"
      ],
      "metadata": {
        "colab": {
          "base_uri": "https://localhost:8080/"
        },
        "id": "-ufhsX0vK8zJ",
        "outputId": "56e17388-8a09-4bed-999b-19605457c36a"
      },
      "execution_count": 35,
      "outputs": [
        {
          "output_type": "execute_result",
          "data": {
            "text/plain": [
              "{'id': 4.0,\n",
              " 'height': 140.28333333333333,\n",
              " 'weight': 5.471428571428571,\n",
              " 'age': 40.4,\n",
              " 'gender': 'missing'}"
            ]
          },
          "metadata": {},
          "execution_count": 35
        }
      ]
    },
    {
      "cell_type": "code",
      "source": [
        "df_miss_no_income.fillna(means).show()"
      ],
      "metadata": {
        "colab": {
          "base_uri": "https://localhost:8080/"
        },
        "id": "_ewnU8RWLLE4",
        "outputId": "c5e4c9c6-8fd9-4518-fd6c-0cb1e011b150"
      },
      "execution_count": 36,
      "outputs": [
        {
          "output_type": "stream",
          "name": "stdout",
          "text": [
            "+---+------------------+------+---+-------+\n",
            "| id|            height|weight|age| gender|\n",
            "+---+------------------+------+---+-------+\n",
            "|  1|             143.5|   5.6| 28|      M|\n",
            "|  2|             167.2|   5.4| 45|      M|\n",
            "|  3|140.28333333333333|   5.2| 40|missing|\n",
            "|  4|             144.5|   5.9| 33|      M|\n",
            "|  5|             133.2|   5.7| 54|      F|\n",
            "|  6|             124.1|   5.2| 40|      F|\n",
            "|  7|             129.2|   5.3| 42|      M|\n",
            "+---+------------------+------+---+-------+\n",
            "\n"
          ]
        }
      ]
    },
    {
      "cell_type": "markdown",
      "source": [
        "**이상치(outlider) 처리**\n",
        "\n",
        "1. 데이터값에 하위/상위 제한선 설정\n",
        "2. 아웃라이너 확인하기"
      ],
      "metadata": {
        "id": "65rltZ8OLTA-"
      }
    },
    {
      "cell_type": "code",
      "source": [
        "df_outliers = spark.createDataFrame([(1, 143.5, 5.3, 28),\n",
        "                                     (2, 154.2, 5.5, 45),\n",
        "                                     (3, 342.3, 5.1, 99),\n",
        "                                     (4, 144.5, 5.5, 33),\n",
        "                                     (5, 133.2, 5.4, 54),\n",
        "                                     (6, 124.1, 5.1, 21),\n",
        "                                     (7, 129.2, 5.3, 42)],\n",
        "                                     ['id', 'weight', 'height', 'age'])\n",
        "df_outliers.show()"
      ],
      "metadata": {
        "colab": {
          "base_uri": "https://localhost:8080/"
        },
        "id": "vmo_SJDoLQDk",
        "outputId": "a26523f5-5785-4444-b41f-e28deac98e3d"
      },
      "execution_count": 39,
      "outputs": [
        {
          "output_type": "stream",
          "name": "stdout",
          "text": [
            "+---+------+------+---+\n",
            "| id|weight|height|age|\n",
            "+---+------+------+---+\n",
            "|  1| 143.5|   5.3| 28|\n",
            "|  2| 154.2|   5.5| 45|\n",
            "|  3| 342.3|   5.1| 99|\n",
            "|  4| 144.5|   5.5| 33|\n",
            "|  5| 133.2|   5.4| 54|\n",
            "|  6| 124.1|   5.1| 21|\n",
            "|  7| 129.2|   5.3| 42|\n",
            "+---+------+------+---+\n",
            "\n"
          ]
        }
      ]
    },
    {
      "cell_type": "markdown",
      "source": [
        "1. 데이터값에 하위/상위 제한선 설정\n",
        "- .approxQuantile(column_name, 0~1사이 값, 허용 가능한 수준의 에러)\n",
        "- 세번째 인자. 허용 가능한 에러(알파)를 낮출 경우 오래걸림 but 정확하게 계산할 수 있음"
      ],
      "metadata": {
        "id": "ZcGmbMbdMwO6"
      }
    },
    {
      "cell_type": "code",
      "source": [
        "cols = ['weight', 'height', 'age']\n",
        "bounds = {}\n",
        "\n",
        "for col in cols:\n",
        "  quantiles = df_outliers.approxQuantile(col, [0.25, 0.75], 0.05)\n",
        "  IQR = quantiles[1] = quantiles[0] #각 col의 분포를 계산하여 평균은 0.5이니까 Q1 : 0.25, Q3 : 0.75로 인자를 전달하여 IQR을 구함\n",
        "  bounds[col] = [quantiles[0] - 1.5*IQR, quantiles[1] + 1.5*IQR] # bounds 하위/상위 제한선은 Q1으로 부터 1.5IQR까지 더 내려가도 인정.\n",
        "\n",
        "bounds"
      ],
      "metadata": {
        "colab": {
          "base_uri": "https://localhost:8080/"
        },
        "id": "L3fWF71vNCkF",
        "outputId": "343e5954-63ae-4b0e-d1a0-1ddc12cac7ce"
      },
      "execution_count": 40,
      "outputs": [
        {
          "output_type": "execute_result",
          "data": {
            "text/plain": [
              "{'weight': [-64.6, 323.0], 'height': [-2.55, 12.75], 'age': [-14.0, 70.0]}"
            ]
          },
          "metadata": {},
          "execution_count": 40
        }
      ]
    },
    {
      "cell_type": "code",
      "source": [
        "outliers = df_outliers.select(*['id'] + [\n",
        "    (\n",
        "        (df_outliers[c] < bounds[c][0]) | # 해당 or 연산자(|) 때문에 값은 True or False로 저장된다.\n",
        "        (df_outliers[c] > bounds[c][1])\n",
        "    ).alias(c + '_o') for c in cols\n",
        "])\n",
        "\n",
        "outliers.show()"
      ],
      "metadata": {
        "colab": {
          "base_uri": "https://localhost:8080/"
        },
        "id": "KblEb781Men1",
        "outputId": "8a153d7f-e6c0-49eb-ecaa-776a906c8840"
      },
      "execution_count": 41,
      "outputs": [
        {
          "output_type": "stream",
          "name": "stdout",
          "text": [
            "+---+--------+--------+-----+\n",
            "| id|weight_o|height_o|age_o|\n",
            "+---+--------+--------+-----+\n",
            "|  1|   false|   false|false|\n",
            "|  2|   false|   false|false|\n",
            "|  3|    true|   false| true|\n",
            "|  4|   false|   false|false|\n",
            "|  5|   false|   false|false|\n",
            "|  6|   false|   false|false|\n",
            "|  7|   false|   false|false|\n",
            "+---+--------+--------+-----+\n",
            "\n"
          ]
        }
      ]
    },
    {
      "cell_type": "code",
      "source": [],
      "metadata": {
        "id": "R-socTD7OLAs"
      },
      "execution_count": null,
      "outputs": []
    }
  ]
}