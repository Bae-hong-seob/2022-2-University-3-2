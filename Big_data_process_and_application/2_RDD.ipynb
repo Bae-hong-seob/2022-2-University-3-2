{
  "nbformat": 4,
  "nbformat_minor": 0,
  "metadata": {
    "colab": {
      "provenance": [],
      "collapsed_sections": [],
      "mount_file_id": "1y_NqpxRsmJWBvnobRvOIbPvfVH-rh_O4",
      "authorship_tag": "ABX9TyNyRIcmIQ1PweuDtv+h3ASl",
      "include_colab_link": true
    },
    "kernelspec": {
      "name": "python3",
      "display_name": "Python 3"
    },
    "language_info": {
      "name": "python"
    }
  },
  "cells": [
    {
      "cell_type": "markdown",
      "metadata": {
        "id": "view-in-github",
        "colab_type": "text"
      },
      "source": [
        "<a href=\"https://colab.research.google.com/github/Bae-hong-seob/University-3-2/blob/main/Big_data_process_and_application/2_RDD.ipynb\" target=\"_parent\"><img src=\"https://colab.research.google.com/assets/colab-badge.svg\" alt=\"Open In Colab\"/></a>"
      ]
    },
    {
      "cell_type": "code",
      "execution_count": null,
      "metadata": {
        "colab": {
          "base_uri": "https://localhost:8080/"
        },
        "id": "ngsfeGyuBX1x",
        "outputId": "5c937537-3b88-4c51-d09a-2a30b56b5afc"
      },
      "outputs": [
        {
          "output_type": "stream",
          "name": "stdout",
          "text": [
            "Looking in indexes: https://pypi.org/simple, https://us-python.pkg.dev/colab-wheels/public/simple/\n",
            "Collecting pyspark\n",
            "  Downloading pyspark-3.3.0.tar.gz (281.3 MB)\n",
            "\u001b[K     |████████████████████████████████| 281.3 MB 41 kB/s \n",
            "\u001b[?25hCollecting py4j==0.10.9.5\n",
            "  Downloading py4j-0.10.9.5-py2.py3-none-any.whl (199 kB)\n",
            "\u001b[K     |████████████████████████████████| 199 kB 38.8 MB/s \n",
            "\u001b[?25hBuilding wheels for collected packages: pyspark\n",
            "  Building wheel for pyspark (setup.py) ... \u001b[?25l\u001b[?25hdone\n",
            "  Created wheel for pyspark: filename=pyspark-3.3.0-py2.py3-none-any.whl size=281764026 sha256=3f2407fa318fbd494e9d94eb5772c8a4cb9968e4346a210023cb59c8a769de2e\n",
            "  Stored in directory: /root/.cache/pip/wheels/7a/8e/1b/f73a52650d2e5f337708d9f6a1750d451a7349a867f928b885\n",
            "Successfully built pyspark\n",
            "Installing collected packages: py4j, pyspark\n",
            "Successfully installed py4j-0.10.9.5 pyspark-3.3.0\n"
          ]
        }
      ],
      "source": [
        "!pip install pyspark"
      ]
    },
    {
      "cell_type": "code",
      "source": [
        "!apt install openjdk-8-jdk-headless -qq"
      ],
      "metadata": {
        "colab": {
          "base_uri": "https://localhost:8080/"
        },
        "id": "rvJ8e7KJBZv7",
        "outputId": "b7e21a4b-734a-48f2-9201-2e9482c0ea1c"
      },
      "execution_count": null,
      "outputs": [
        {
          "output_type": "stream",
          "name": "stdout",
          "text": [
            "The following package was automatically installed and is no longer required:\n",
            "  libnvidia-common-460\n",
            "Use 'apt autoremove' to remove it.\n",
            "The following additional packages will be installed:\n",
            "  openjdk-8-jre-headless\n",
            "Suggested packages:\n",
            "  openjdk-8-demo openjdk-8-source libnss-mdns fonts-dejavu-extra\n",
            "  fonts-ipafont-gothic fonts-ipafont-mincho fonts-wqy-microhei\n",
            "  fonts-wqy-zenhei fonts-indic\n",
            "The following NEW packages will be installed:\n",
            "  openjdk-8-jdk-headless openjdk-8-jre-headless\n",
            "0 upgraded, 2 newly installed, 0 to remove and 20 not upgraded.\n",
            "Need to get 36.6 MB of archives.\n",
            "After this operation, 143 MB of additional disk space will be used.\n",
            "Selecting previously unselected package openjdk-8-jre-headless:amd64.\n",
            "(Reading database ... 155569 files and directories currently installed.)\n",
            "Preparing to unpack .../openjdk-8-jre-headless_8u342-b07-0ubuntu1~18.04_amd64.deb ...\n",
            "Unpacking openjdk-8-jre-headless:amd64 (8u342-b07-0ubuntu1~18.04) ...\n",
            "Selecting previously unselected package openjdk-8-jdk-headless:amd64.\n",
            "Preparing to unpack .../openjdk-8-jdk-headless_8u342-b07-0ubuntu1~18.04_amd64.deb ...\n",
            "Unpacking openjdk-8-jdk-headless:amd64 (8u342-b07-0ubuntu1~18.04) ...\n",
            "Setting up openjdk-8-jre-headless:amd64 (8u342-b07-0ubuntu1~18.04) ...\n",
            "update-alternatives: using /usr/lib/jvm/java-8-openjdk-amd64/jre/bin/orbd to provide /usr/bin/orbd (orbd) in auto mode\n",
            "update-alternatives: using /usr/lib/jvm/java-8-openjdk-amd64/jre/bin/servertool to provide /usr/bin/servertool (servertool) in auto mode\n",
            "update-alternatives: using /usr/lib/jvm/java-8-openjdk-amd64/jre/bin/tnameserv to provide /usr/bin/tnameserv (tnameserv) in auto mode\n",
            "Setting up openjdk-8-jdk-headless:amd64 (8u342-b07-0ubuntu1~18.04) ...\n",
            "update-alternatives: using /usr/lib/jvm/java-8-openjdk-amd64/bin/idlj to provide /usr/bin/idlj (idlj) in auto mode\n",
            "update-alternatives: using /usr/lib/jvm/java-8-openjdk-amd64/bin/wsimport to provide /usr/bin/wsimport (wsimport) in auto mode\n",
            "update-alternatives: using /usr/lib/jvm/java-8-openjdk-amd64/bin/jsadebugd to provide /usr/bin/jsadebugd (jsadebugd) in auto mode\n",
            "update-alternatives: using /usr/lib/jvm/java-8-openjdk-amd64/bin/native2ascii to provide /usr/bin/native2ascii (native2ascii) in auto mode\n",
            "update-alternatives: using /usr/lib/jvm/java-8-openjdk-amd64/bin/javah to provide /usr/bin/javah (javah) in auto mode\n",
            "update-alternatives: using /usr/lib/jvm/java-8-openjdk-amd64/bin/clhsdb to provide /usr/bin/clhsdb (clhsdb) in auto mode\n",
            "update-alternatives: using /usr/lib/jvm/java-8-openjdk-amd64/bin/xjc to provide /usr/bin/xjc (xjc) in auto mode\n",
            "update-alternatives: using /usr/lib/jvm/java-8-openjdk-amd64/bin/hsdb to provide /usr/bin/hsdb (hsdb) in auto mode\n",
            "update-alternatives: using /usr/lib/jvm/java-8-openjdk-amd64/bin/schemagen to provide /usr/bin/schemagen (schemagen) in auto mode\n",
            "update-alternatives: using /usr/lib/jvm/java-8-openjdk-amd64/bin/extcheck to provide /usr/bin/extcheck (extcheck) in auto mode\n",
            "update-alternatives: using /usr/lib/jvm/java-8-openjdk-amd64/bin/jhat to provide /usr/bin/jhat (jhat) in auto mode\n",
            "update-alternatives: using /usr/lib/jvm/java-8-openjdk-amd64/bin/wsgen to provide /usr/bin/wsgen (wsgen) in auto mode\n"
          ]
        }
      ]
    },
    {
      "cell_type": "code",
      "source": [
        "import os\n",
        "\n",
        "os.environ[\"JAVA_HOME\"] = \"/usr/lib/jvm/java-8-openjdk-amd64\""
      ],
      "metadata": {
        "id": "8qdb7JmsBvm8"
      },
      "execution_count": null,
      "outputs": []
    },
    {
      "cell_type": "code",
      "source": [
        "import pyspark\n",
        "from pyspark.sql import *\n",
        "from pyspark.sql.functions import *\n",
        "from pyspark import SparkContext, SparkConf"
      ],
      "metadata": {
        "id": "jVsWPcj8B5fz"
      },
      "execution_count": null,
      "outputs": []
    },
    {
      "cell_type": "code",
      "source": [
        "spark = SparkSession.builder.getOrCreate()"
      ],
      "metadata": {
        "id": "gFy-uGFMCCFT"
      },
      "execution_count": null,
      "outputs": []
    },
    {
      "cell_type": "code",
      "source": [
        "spark"
      ],
      "metadata": {
        "colab": {
          "base_uri": "https://localhost:8080/",
          "height": 221
        },
        "id": "tnm2GD29CFqb",
        "outputId": "740221a2-6daf-4349-9f87-e64e03fadf8e"
      },
      "execution_count": null,
      "outputs": [
        {
          "output_type": "execute_result",
          "data": {
            "text/plain": [
              "<pyspark.sql.session.SparkSession at 0x7fe747d7d610>"
            ],
            "text/html": [
              "\n",
              "            <div>\n",
              "                <p><b>SparkSession - in-memory</b></p>\n",
              "                \n",
              "        <div>\n",
              "            <p><b>SparkContext</b></p>\n",
              "\n",
              "            <p><a href=\"http://a17cefec2796:4040\">Spark UI</a></p>\n",
              "\n",
              "            <dl>\n",
              "              <dt>Version</dt>\n",
              "                <dd><code>v3.3.0</code></dd>\n",
              "              <dt>Master</dt>\n",
              "                <dd><code>local[*]</code></dd>\n",
              "              <dt>AppName</dt>\n",
              "                <dd><code>pyspark-shell</code></dd>\n",
              "            </dl>\n",
              "        </div>\n",
              "        \n",
              "            </div>\n",
              "        "
            ]
          },
          "metadata": {},
          "execution_count": 6
        }
      ]
    },
    {
      "cell_type": "code",
      "source": [
        "from operator import add\n",
        "\n",
        "lines = spark.read.text(\"/content/drive/MyDrive/3-2 university/Big_data_process_and_application/word.txt\").rdd.map(lambda r: r[0])\n",
        "counts = lines.flatMap(lambda x: x.split(' ')).map(lambda x: (x,1)).reduceByKey(add)\n",
        "output = counts.collect()\n",
        "\n",
        "for (word, count) in output:\n",
        "  print(\"%s: %i\" % (word, count))\n",
        "\n",
        "spark.stop()"
      ],
      "metadata": {
        "colab": {
          "base_uri": "https://localhost:8080/"
        },
        "id": "rcLghKGpCKo8",
        "outputId": "37ea231e-68fb-4020-d82a-2591003e144d"
      },
      "execution_count": null,
      "outputs": [
        {
          "output_type": "stream",
          "name": "stdout",
          "text": [
            "i: 2\n",
            "am: 1\n",
            "happy: 1\n",
            "keep: 1\n",
            "going: 1\n",
            "like: 1\n",
            "cat: 1\n"
          ]
        }
      ]
    },
    {
      "cell_type": "markdown",
      "source": [
        "# 9/19 수업내용"
      ],
      "metadata": {
        "id": "elIhnVhxavxj"
      }
    },
    {
      "cell_type": "code",
      "source": [
        "sc = pyspark.SparkContext()\n",
        "spark = SparkSession.builder.getOrCreate()"
      ],
      "metadata": {
        "id": "dh0p8uYzCtpk"
      },
      "execution_count": null,
      "outputs": []
    },
    {
      "cell_type": "markdown",
      "source": [
        "SparkContext() 함수를 통해 spark와 연결.  \n",
        "import pandas as pd 와 같은."
      ],
      "metadata": {
        "id": "zo7Oq10dcnSN"
      }
    },
    {
      "cell_type": "code",
      "source": [
        "data = sc.parallelize([('Amber',22), ('Alfred',23), ('Skye',4), ('Albert', 12), ('Amber', 20)])"
      ],
      "metadata": {
        "id": "XjsZTxsGa4o4"
      },
      "execution_count": null,
      "outputs": []
    },
    {
      "cell_type": "markdown",
      "source": [
        "pyspark.SparkContext 라이브러리 내의 parallelize 함수를 통해 data 저장."
      ],
      "metadata": {
        "id": "MX-co5w8c2Mk"
      }
    },
    {
      "cell_type": "code",
      "source": [
        "data.collect()"
      ],
      "metadata": {
        "colab": {
          "base_uri": "https://localhost:8080/"
        },
        "id": "gSPucdS5bKWC",
        "outputId": "e95f3a18-87af-4ba0-b406-b2ac2f8aa5d3"
      },
      "execution_count": null,
      "outputs": [
        {
          "output_type": "execute_result",
          "data": {
            "text/plain": [
              "[('Amber', 22), ('Alfred', 23), ('Skye', 4), ('Albert', 12), ('Amber', 20)]"
            ]
          },
          "metadata": {},
          "execution_count": 10
        }
      ]
    },
    {
      "cell_type": "markdown",
      "source": [
        "ㄴ collect()함수로 데이터 읽기."
      ],
      "metadata": {
        "id": "ZHF_-Y7QdrrW"
      }
    },
    {
      "cell_type": "markdown",
      "source": [
        "## RDD는 schemaless data 구조이기 때문에 다양한 데이터 구조를 섞을 수 있다."
      ],
      "metadata": {
        "id": "UuUeB9B8dvos"
      }
    },
    {
      "cell_type": "code",
      "source": [
        "data_heterogenous = sc.parallelize([('Ferrari', 'fast'), {'Porsche':100000}, ['Spain', 'visited', 4504]]).collect()\n",
        "data_heterogenous"
      ],
      "metadata": {
        "colab": {
          "base_uri": "https://localhost:8080/"
        },
        "id": "Pc8VLFcYbK8g",
        "outputId": "2cd84315-2ce9-4a31-b4c8-737c282af05d"
      },
      "execution_count": null,
      "outputs": [
        {
          "output_type": "execute_result",
          "data": {
            "text/plain": [
              "[('Ferrari', 'fast'), {'Porsche': 100000}, ['Spain', 'visited', 4504]]"
            ]
          },
          "metadata": {},
          "execution_count": 11
        }
      ]
    },
    {
      "cell_type": "markdown",
      "source": [
        "ㄴ 보는 예시와 같이 list와 dictionary 데이터 구조를 섞을 수 있다."
      ],
      "metadata": {
        "id": "ppJ62sDhd4Wy"
      }
    },
    {
      "cell_type": "code",
      "source": [
        "data_heterogenous[1]['Porsche']"
      ],
      "metadata": {
        "colab": {
          "base_uri": "https://localhost:8080/"
        },
        "id": "rZNidxoTdTk8",
        "outputId": "4993b447-26c8-4ca4-ba3d-497a50a1dd71"
      },
      "execution_count": null,
      "outputs": [
        {
          "output_type": "execute_result",
          "data": {
            "text/plain": [
              "100000"
            ]
          },
          "metadata": {},
          "execution_count": 12
        }
      ]
    },
    {
      "cell_type": "code",
      "source": [
        "data_heterogenous[2][0]"
      ],
      "metadata": {
        "colab": {
          "base_uri": "https://localhost:8080/",
          "height": 36
        },
        "id": "yvAcOJ5VdcMq",
        "outputId": "55e51b39-831c-4826-a26d-57054ccff9f0"
      },
      "execution_count": null,
      "outputs": [
        {
          "output_type": "execute_result",
          "data": {
            "text/plain": [
              "'Spain'"
            ],
            "application/vnd.google.colaboratory.intrinsic+json": {
              "type": "string"
            }
          },
          "metadata": {},
          "execution_count": 13
        }
      ]
    },
    {
      "cell_type": "markdown",
      "source": [
        "ㄴ 다음과 같이 출력 확인"
      ],
      "metadata": {
        "id": "JT-OCz5bd867"
      }
    },
    {
      "cell_type": "markdown",
      "source": [
        "## 기존 파일 데이터 읽어오기(read_csv) : textFile()함수 사용"
      ],
      "metadata": {
        "id": "Q3iyzBZ3e1Ft"
      }
    },
    {
      "cell_type": "code",
      "source": [
        "data_from_file = sc.textFile('/content/drive/MyDrive/3-2 university/Big_data_process_and_application/Iris.csv')"
      ],
      "metadata": {
        "id": "cb5y3SCtd-Kr"
      },
      "execution_count": null,
      "outputs": []
    },
    {
      "cell_type": "code",
      "source": [
        "data_from_file.take(5)"
      ],
      "metadata": {
        "colab": {
          "base_uri": "https://localhost:8080/"
        },
        "id": "uBLGB5madipH",
        "outputId": "5def796d-07da-4d2f-bf43-57e49b16a4d9"
      },
      "execution_count": null,
      "outputs": [
        {
          "output_type": "execute_result",
          "data": {
            "text/plain": [
              "['SepalLengthCm,SepalWidthCm,PetalLengthCm,PetalWidthCm,Species',\n",
              " '5.1,3.5,1.4,0.2,Iris-setosa',\n",
              " '4.9,3,1.4,0.2,Iris-setosa',\n",
              " '4.7,3.2,1.3,0.2,Iris-setosa',\n",
              " '4.6,3.1,1.5,0.2,Iris-setosa']"
            ]
          },
          "metadata": {},
          "execution_count": 15
        }
      ]
    },
    {
      "cell_type": "markdown",
      "source": [
        "ㄴ data.head(5) 대신 spark에서는 take()함수 사용."
      ],
      "metadata": {
        "id": "pHv7oAlyfHPh"
      }
    },
    {
      "cell_type": "code",
      "source": [
        "# 헤더(첫줄) 추출\n",
        "iris_header = data_from_file.first()\n",
        "\n",
        "#spark RDD로 변환(header만 뗀 걸로 RDD 변환)\n",
        "iris_header = sc.parallelize([iris_header])\n",
        "\n",
        "#데이터 셋에서 헤더 제외\n",
        "iris = data_from_file.subtract(iris_header)\n",
        "iris.collect()[:10]"
      ],
      "metadata": {
        "colab": {
          "base_uri": "https://localhost:8080/"
        },
        "id": "395xwtKnfMWk",
        "outputId": "bcd6be46-b85e-4909-9cfe-9ddcb0feab5f"
      },
      "execution_count": null,
      "outputs": [
        {
          "output_type": "execute_result",
          "data": {
            "text/plain": [
              "['4.6,3.4,1.4,0.3,Iris-setosa',\n",
              " '5,3.4,1.5,0.2,Iris-setosa',\n",
              " '4.9,3.1,1.5,0.1,Iris-setosa',\n",
              " '4.9,3.1,1.5,0.1,Iris-setosa',\n",
              " '4.9,3.1,1.5,0.1,Iris-setosa',\n",
              " '4.8,3.4,1.6,0.2,Iris-setosa',\n",
              " '5.7,3.8,1.7,0.3,Iris-setosa',\n",
              " '5.1,3.7,1.5,0.4,Iris-setosa',\n",
              " '5,3,1.6,0.2,Iris-setosa',\n",
              " '5.2,3.5,1.5,0.2,Iris-setosa']"
            ]
          },
          "metadata": {},
          "execution_count": 16
        }
      ]
    },
    {
      "cell_type": "markdown",
      "source": [
        "1. data_from_file에서 첫줄(first)만 떼서 iris_header파일에 저장\n",
        "2. iris_header파일을 parallelize함수를 사용하여 RDD로 변환\n",
        "3. 기존 data_from_file (header 포함 RDD) 에서 헤더파일을 RDD로 변환시킨 iris_header를 빼기 연산 진행"
      ],
      "metadata": {
        "id": "MDmmfgoSf1bd"
      }
    },
    {
      "cell_type": "markdown",
      "source": [
        "## RDD(like DataFrame?) 제어 연산\n",
        "Transformation 연산 : filter(), map()\n",
        "- RDD에서 새로운 RDD를 생성하는 함수\n",
        "- filter는 특정 데이터만 산출하여 새로운 RDD 타입 데이터 산출  \n",
        "- map은 데이터를 분산 배치하여 새로운 RDD 타입 데이터 산출\n",
        "\n",
        "Action 연산 : count(), collect()\n",
        "- RDD에서 RDD가 아닌 다른 타입의 데이터로 변환하는 함수\n",
        "\n"
      ],
      "metadata": {
        "id": "rqS2Ug5v9seT"
      }
    },
    {
      "cell_type": "markdown",
      "source": [
        "### lambda 무명 함수(=익명 함수)\n",
        "- lambda 매개변수 : 표현식\n",
        "ex) lambda x : x+10\n",
        "x에다 10을 더하는 익명함수 구현.  \n",
        "이를 map() 함수와 연동한다면 데이터 구조에서 매 x(row) 값에 10을 더해줘라~"
      ],
      "metadata": {
        "id": "6tQI_Edoh6Hi"
      }
    },
    {
      "cell_type": "code",
      "source": [
        "iris_parsed_1 = iris.map(lambda row: row.split(\",\"))\n",
        "iris_parsed_1.take(10)"
      ],
      "metadata": {
        "colab": {
          "base_uri": "https://localhost:8080/"
        },
        "id": "yeuQidvRfFYQ",
        "outputId": "694c83a4-f972-4749-c288-156d491d8408"
      },
      "execution_count": null,
      "outputs": [
        {
          "output_type": "execute_result",
          "data": {
            "text/plain": [
              "[['4.6', '3.4', '1.4', '0.3', 'Iris-setosa'],\n",
              " ['5', '3.4', '1.5', '0.2', 'Iris-setosa'],\n",
              " ['4.9', '3.1', '1.5', '0.1', 'Iris-setosa'],\n",
              " ['4.9', '3.1', '1.5', '0.1', 'Iris-setosa'],\n",
              " ['4.9', '3.1', '1.5', '0.1', 'Iris-setosa'],\n",
              " ['4.8', '3.4', '1.6', '0.2', 'Iris-setosa'],\n",
              " ['5.7', '3.8', '1.7', '0.3', 'Iris-setosa'],\n",
              " ['5.1', '3.7', '1.5', '0.4', 'Iris-setosa'],\n",
              " ['5', '3', '1.6', '0.2', 'Iris-setosa'],\n",
              " ['5.2', '3.5', '1.5', '0.2', 'Iris-setosa']]"
            ]
          },
          "metadata": {},
          "execution_count": 17
        }
      ]
    },
    {
      "cell_type": "code",
      "source": [
        "iris_parsed_2 = iris_parsed_1.map(lambda x: ( str(x[-1]), float(x[0])))\n",
        "iris_parsed_2.take(10)"
      ],
      "metadata": {
        "colab": {
          "base_uri": "https://localhost:8080/"
        },
        "id": "YG-c8Fn7hzu1",
        "outputId": "1fd808a4-6456-4ba1-cf1c-168fd3d7fcd3"
      },
      "execution_count": null,
      "outputs": [
        {
          "output_type": "execute_result",
          "data": {
            "text/plain": [
              "[('Iris-setosa', 4.6),\n",
              " ('Iris-setosa', 5.0),\n",
              " ('Iris-setosa', 4.9),\n",
              " ('Iris-setosa', 4.9),\n",
              " ('Iris-setosa', 4.9),\n",
              " ('Iris-setosa', 4.8),\n",
              " ('Iris-setosa', 5.7),\n",
              " ('Iris-setosa', 5.1),\n",
              " ('Iris-setosa', 5.0),\n",
              " ('Iris-setosa', 5.2)]"
            ]
          },
          "metadata": {},
          "execution_count": 18
        }
      ]
    },
    {
      "cell_type": "code",
      "source": [
        "# filter() 함수를 사용하여 꽃받침 길이가 5.0 이상인 경우만 추출\n",
        "\n",
        "#원본\n",
        "iris_parsed_1.count()"
      ],
      "metadata": {
        "colab": {
          "base_uri": "https://localhost:8080/"
        },
        "id": "Aq7_0ZiAj9ml",
        "outputId": "780b0685-8e0d-4d43-9080-7045b5f03a29"
      },
      "execution_count": null,
      "outputs": [
        {
          "output_type": "execute_result",
          "data": {
            "text/plain": [
              "150"
            ]
          },
          "metadata": {},
          "execution_count": 19
        }
      ]
    },
    {
      "cell_type": "code",
      "source": [
        "iris_filtered = iris_parsed_1.filter(lambda x: float(x[0]) >= 5.0)\n",
        "# 필터링 완료.\n",
        "iris_filtered.count()"
      ],
      "metadata": {
        "colab": {
          "base_uri": "https://localhost:8080/"
        },
        "id": "CY3wy3LnjfHa",
        "outputId": "57479c7e-8d89-4d1f-9c8b-3a056b36be92"
      },
      "execution_count": null,
      "outputs": [
        {
          "output_type": "execute_result",
          "data": {
            "text/plain": [
              "128"
            ]
          },
          "metadata": {},
          "execution_count": 20
        }
      ]
    },
    {
      "cell_type": "markdown",
      "source": [
        "flatMap()함수. map()함수 결과를 flat으로 표현. 즉 평평하게 1차원으로 output을 표현"
      ],
      "metadata": {
        "id": "3ehm-Qazl6ZV"
      }
    },
    {
      "cell_type": "code",
      "source": [
        "iris_flat = iris_parsed_1.flatMap(lambda x: ( str(x[-1]), float(x[0])))\n",
        "iris_flat.take(6)"
      ],
      "metadata": {
        "colab": {
          "base_uri": "https://localhost:8080/"
        },
        "id": "tF5R65UpkR7a",
        "outputId": "675a94c9-4074-4002-de22-b44b8b66b74b"
      },
      "execution_count": null,
      "outputs": [
        {
          "output_type": "execute_result",
          "data": {
            "text/plain": [
              "['Iris-setosa', 4.6, 'Iris-setosa', 5.0, 'Iris-setosa', 4.9]"
            ]
          },
          "metadata": {},
          "execution_count": 21
        }
      ]
    },
    {
      "cell_type": "code",
      "source": [
        "iris_flat = iris_parsed_1.flatMap(lambda x: (( str(x[-1]), float(x[0]))))\n",
        "iris_flat.take(6)"
      ],
      "metadata": {
        "colab": {
          "base_uri": "https://localhost:8080/"
        },
        "id": "-pzZS2dVmMn0",
        "outputId": "d469d0af-6454-4f1e-8d03-e131c331f81d"
      },
      "execution_count": null,
      "outputs": [
        {
          "output_type": "execute_result",
          "data": {
            "text/plain": [
              "['Iris-setosa', 4.6, 'Iris-setosa', 5.0, 'Iris-setosa', 4.9]"
            ]
          },
          "metadata": {},
          "execution_count": 22
        }
      ]
    },
    {
      "cell_type": "markdown",
      "source": [
        "ㄴ 튜플로 구성해보려고 () 괄호로 한번 더 감싸주더라도 flatMap()함수는 결국 1차원으로 표현한다."
      ],
      "metadata": {
        "id": "NzEQP2aHmehQ"
      }
    },
    {
      "cell_type": "markdown",
      "source": [
        "# 9/21 수업내용"
      ],
      "metadata": {
        "id": "4-EGPj0f_8rR"
      }
    },
    {
      "cell_type": "markdown",
      "source": [
        "distinct() 함수 사용하여 중복 제거.\n",
        "- 새로운 RDD 생성, 즉 transformation 연산."
      ],
      "metadata": {
        "id": "CQxWspDD--Qu"
      }
    },
    {
      "cell_type": "code",
      "source": [
        "distinct_iris = iris_parsed_1.map(lambda x: x[-1]).distinct().collect()\n",
        "distinct_iris"
      ],
      "metadata": {
        "id": "PnXXDOJ0mYnK",
        "colab": {
          "base_uri": "https://localhost:8080/"
        },
        "outputId": "63f3d0a6-5491-484c-95c1-a6723b3a64a2"
      },
      "execution_count": null,
      "outputs": [
        {
          "output_type": "execute_result",
          "data": {
            "text/plain": [
              "['Iris-setosa', 'Iris-virginica', 'Iris-versicolor']"
            ]
          },
          "metadata": {},
          "execution_count": 24
        }
      ]
    },
    {
      "cell_type": "markdown",
      "source": [
        "sample() 함수\n",
        "- sample(flase, 0.5, 123)\n",
        "- 첫번째 인자 True:복원추출, False:비복원추출\n",
        "- 두번째 인자 샘플의 비율\n",
        "- 세번째 인자 seed값"
      ],
      "metadata": {
        "id": "4IEnQvGn_0N2"
      }
    },
    {
      "cell_type": "code",
      "source": [
        "fraction = 0.5\n",
        "iris_sample1 = iris_parsed_1.sample(False, fraction, 123)\n",
        "iris_sample2 = iris_parsed_2.sample(False, fraction, 123)\n",
        "\n",
        "#3번째 인자인 seed 값을 다르게 설정할 경우 다르게 sampling\n",
        "iris_sample3 = iris_parsed_1.sample(False, fraction, 456)\n",
        "\n",
        "iris_sample1.take(5)"
      ],
      "metadata": {
        "colab": {
          "base_uri": "https://localhost:8080/"
        },
        "id": "bT4kHKkg_t80",
        "outputId": "488f7bbe-06c7-459b-bccf-c5161dcdb50a"
      },
      "execution_count": null,
      "outputs": [
        {
          "output_type": "execute_result",
          "data": {
            "text/plain": [
              "[['5', '3.4', '1.5', '0.2', 'Iris-setosa'],\n",
              " ['4.9', '3.1', '1.5', '0.1', 'Iris-setosa'],\n",
              " ['4.9', '3.1', '1.5', '0.1', 'Iris-setosa'],\n",
              " ['4.9', '3.1', '1.5', '0.1', 'Iris-setosa'],\n",
              " ['4.8', '3.4', '1.6', '0.2', 'Iris-setosa']]"
            ]
          },
          "metadata": {},
          "execution_count": 25
        }
      ]
    },
    {
      "cell_type": "code",
      "source": [
        "iris_sample2.take(5)"
      ],
      "metadata": {
        "colab": {
          "base_uri": "https://localhost:8080/"
        },
        "id": "w2P8h0s7AhVp",
        "outputId": "dcbedc71-ffb9-4e1f-f783-0c47f201dc60"
      },
      "execution_count": null,
      "outputs": [
        {
          "output_type": "execute_result",
          "data": {
            "text/plain": [
              "[('Iris-setosa', 5.0),\n",
              " ('Iris-setosa', 4.9),\n",
              " ('Iris-setosa', 4.9),\n",
              " ('Iris-setosa', 4.9),\n",
              " ('Iris-setosa', 4.8)]"
            ]
          },
          "metadata": {},
          "execution_count": 26
        }
      ]
    },
    {
      "cell_type": "code",
      "source": [
        "iris_sample3.take(5)"
      ],
      "metadata": {
        "colab": {
          "base_uri": "https://localhost:8080/"
        },
        "id": "t8payc9IAkgm",
        "outputId": "06c0a4de-3e2a-455b-d718-c1c11fc4f2ae"
      },
      "execution_count": null,
      "outputs": [
        {
          "output_type": "execute_result",
          "data": {
            "text/plain": [
              "[['4.6', '3.4', '1.4', '0.3', 'Iris-setosa'],\n",
              " ['5', '3.4', '1.5', '0.2', 'Iris-setosa'],\n",
              " ['4.9', '3.1', '1.5', '0.1', 'Iris-setosa'],\n",
              " ['4.9', '3.1', '1.5', '0.1', 'Iris-setosa'],\n",
              " ['4.9', '3.1', '1.5', '0.1', 'Iris-setosa']]"
            ]
          },
          "metadata": {},
          "execution_count": 27
        }
      ]
    },
    {
      "cell_type": "markdown",
      "source": [
        "## join(transformation 연산) : 두 개의 RDD에서 같은 키를 가지는 요소끼리 조인\n",
        "\n",
        "OutherJoin() : 외부조인. 즉 조인에 참여하지 않은 튜플까지 조인에 참여시킴"
      ],
      "metadata": {
        "id": "tKqOTzZLAu4V"
      }
    },
    {
      "cell_type": "code",
      "source": [
        "rdd1 = sc.parallelize([('a',1),('b',4), ('c',10)])\n",
        "rdd2 = sc.parallelize([('a',4),('a',1),('b',6),('d',15)])\n",
        "\n",
        "rdd3 = rdd1.leftOuterJoin(rdd2)\n",
        "rdd3.take(5)"
      ],
      "metadata": {
        "colab": {
          "base_uri": "https://localhost:8080/"
        },
        "id": "lkBENl3-AnL6",
        "outputId": "90a2b5c9-d1bc-490a-fc96-5c94789f216f"
      },
      "execution_count": null,
      "outputs": [
        {
          "output_type": "execute_result",
          "data": {
            "text/plain": [
              "[('b', (4, 6)), ('c', (10, None)), ('a', (1, 4)), ('a', (1, 1))]"
            ]
          },
          "metadata": {},
          "execution_count": 28
        }
      ]
    },
    {
      "cell_type": "markdown",
      "source": [
        "ㄴ 왼쪽 RDD에 오른쪽 RDD를 추가하는 방식으로 진행. (key값이 겹치는 것만 튜플 형식으로 추가)"
      ],
      "metadata": {
        "id": "0pGgYB36CXXG"
      }
    },
    {
      "cell_type": "code",
      "source": [
        "rdd4 = rdd1.join(rdd2)\n",
        "rdd4.collect()"
      ],
      "metadata": {
        "colab": {
          "base_uri": "https://localhost:8080/"
        },
        "id": "CjfKQi9WCk0A",
        "outputId": "43a95b27-7906-42a3-ccba-145ab69129b8"
      },
      "execution_count": null,
      "outputs": [
        {
          "output_type": "execute_result",
          "data": {
            "text/plain": [
              "[('b', (4, 6)), ('a', (1, 4)), ('a', (1, 1))]"
            ]
          },
          "metadata": {},
          "execution_count": 29
        }
      ]
    },
    {
      "cell_type": "markdown",
      "source": [
        "ㄴ 그냥 join()을 사용할 경우 두 RDD의 key값이 교집합만 출력(a,b)"
      ],
      "metadata": {
        "id": "vv4Nhrd-Cs1V"
      }
    },
    {
      "cell_type": "code",
      "source": [
        "rdd5 = rdd1.intersection(rdd2)\n",
        "rdd5.collect()"
      ],
      "metadata": {
        "colab": {
          "base_uri": "https://localhost:8080/"
        },
        "id": "JG561ueACVml",
        "outputId": "5f27d2cd-806b-43c1-d9b7-7183f4e3ca95"
      },
      "execution_count": null,
      "outputs": [
        {
          "output_type": "execute_result",
          "data": {
            "text/plain": [
              "[('a', 1)]"
            ]
          },
          "metadata": {},
          "execution_count": 30
        }
      ]
    },
    {
      "cell_type": "markdown",
      "source": [
        "ㄴ intersection() 교집합을 반환하는 함수"
      ],
      "metadata": {
        "id": "rF7R78TAC-XM"
      }
    },
    {
      "cell_type": "markdown",
      "source": [
        "## repartition() 함수"
      ],
      "metadata": {
        "id": "8MW3qSgKDFMb"
      }
    },
    {
      "cell_type": "code",
      "source": [
        "len(rdd1.glom().collect())"
      ],
      "metadata": {
        "colab": {
          "base_uri": "https://localhost:8080/"
        },
        "id": "mry0fyWnDINs",
        "outputId": "b84e9a6d-e805-4fa3-a2fb-b1d734126196"
      },
      "execution_count": null,
      "outputs": [
        {
          "output_type": "execute_result",
          "data": {
            "text/plain": [
              "2"
            ]
          },
          "metadata": {},
          "execution_count": 32
        }
      ]
    },
    {
      "cell_type": "code",
      "source": [
        "rdd1 = rdd1.repartition(4)\n",
        "len(rdd1.glom().collect())"
      ],
      "metadata": {
        "colab": {
          "base_uri": "https://localhost:8080/"
        },
        "id": "nC_b9JWuC2-7",
        "outputId": "dcb8603f-2710-4239-ad99-078e771a4524"
      },
      "execution_count": null,
      "outputs": [
        {
          "output_type": "execute_result",
          "data": {
            "text/plain": [
              "4"
            ]
          },
          "metadata": {},
          "execution_count": 34
        }
      ]
    },
    {
      "cell_type": "markdown",
      "source": [
        "# Action 연산\n",
        "\n",
        "-take(n) 함수는 RDD 전체가아니라 상위 n개만 출략(pd.battle pro shitttttttt\n"
      ],
      "metadata": {
        "id": "R41Fs7uVDnHB"
      }
    },
    {
      "cell_type": "code",
      "source": [
        "iris_first = iris.take(1)\n",
        "iris_first"
      ],
      "metadata": {
        "colab": {
          "base_uri": "https://localhost:8080/"
        },
        "id": "iBjkhZnsEA8L",
        "outputId": "2b0baade-2355-4a36-edd3-8834da1421c9"
      },
      "execution_count": null,
      "outputs": [
        {
          "output_type": "execute_result",
          "data": {
            "text/plain": [
              "['4.6,3.4,1.4,0.3,Iris-setosa']"
            ]
          },
          "metadata": {},
          "execution_count": 37
        }
      ]
    },
    {
      "cell_type": "markdown",
      "source": [
        "reduce(리스트, 파티션 크기) 함수\n",
        "\n",
        "리스트에서 몇개씩 진행될껀가.."
      ],
      "metadata": {
        "id": "-bQn4PhDGYuU"
      }
    },
    {
      "cell_type": "code",
      "source": [
        "rdd1.collect()"
      ],
      "metadata": {
        "colab": {
          "base_uri": "https://localhost:8080/"
        },
        "id": "gD2AR2ZPDhaM",
        "outputId": "ee85cc47-dacf-48cb-a554-434ad2c015c0"
      },
      "execution_count": null,
      "outputs": [
        {
          "output_type": "execute_result",
          "data": {
            "text/plain": [
              "[('a', 1), ('b', 4), ('c', 10)]"
            ]
          },
          "metadata": {},
          "execution_count": 38
        }
      ]
    },
    {
      "cell_type": "code",
      "source": [
        "rdd1.map(lambda row:row[1]).reduce(lambda x, y: x+y)"
      ],
      "metadata": {
        "colab": {
          "base_uri": "https://localhost:8080/"
        },
        "id": "FUdJsrqZEukR",
        "outputId": "fbef5aa1-6b4b-4a9a-bc56-c8e57f065263"
      },
      "execution_count": null,
      "outputs": [
        {
          "output_type": "execute_result",
          "data": {
            "text/plain": [
              "15"
            ]
          },
          "metadata": {},
          "execution_count": 41
        }
      ]
    },
    {
      "cell_type": "code",
      "source": [
        "data_reduce = sc.parallelize([1,2,.5,.1,5,.2],1)\n",
        "data_reduce.reduce(lambda x,y : x/y)"
      ],
      "metadata": {
        "colab": {
          "base_uri": "https://localhost:8080/"
        },
        "id": "nXIUSM8sE2Tj",
        "outputId": "06396899-61fc-4a49-ec33-02af0edd138c"
      },
      "execution_count": null,
      "outputs": [
        {
          "output_type": "execute_result",
          "data": {
            "text/plain": [
              "10.0"
            ]
          },
          "metadata": {},
          "execution_count": 44
        }
      ]
    },
    {
      "cell_type": "code",
      "source": [
        "data_reduce = sc.parallelize([1,2,.5,.1,5,.2],3)\n",
        "data_reduce.reduce(lambda x,y : x/y)"
      ],
      "metadata": {
        "colab": {
          "base_uri": "https://localhost:8080/"
        },
        "id": "_oaKM6tdFH6m",
        "outputId": "ff52bdbd-6130-495e-c9fe-6d21eee5cdf1"
      },
      "execution_count": null,
      "outputs": [
        {
          "output_type": "execute_result",
          "data": {
            "text/plain": [
              "0.004"
            ]
          },
          "metadata": {},
          "execution_count": 43
        }
      ]
    },
    {
      "cell_type": "markdown",
      "source": [
        "reduceByKey() 함수\n",
        "- 자주사용함. 추후에 알아보기"
      ],
      "metadata": {
        "id": "Al4DqkisGsHv"
      }
    },
    {
      "cell_type": "markdown",
      "source": [
        "saveAsTextFile() 함수\n",
        "- RDD의 내용을 파일로 출력\n",
        "- 같은 디렉토리에 파티션 단위로 각 파일을 따로 출력"
      ],
      "metadata": {
        "id": "935K84aWGw2C"
      }
    },
    {
      "cell_type": "markdown",
      "source": [
        "# 추가 학습 진행. 중요함"
      ],
      "metadata": {
        "id": "6s_O0t8WHRrO"
      }
    },
    {
      "cell_type": "markdown",
      "source": [
        "Action연산\n",
        "- mapValues() 함수는 key의 변경 없이 각 value에 함수 적용\n",
        "- 이전 실습 때 종과 꽃받침 길이만 추출했던 rdd 사용(=iris_parsed_2)"
      ],
      "metadata": {
        "id": "FujNMttFHUag"
      }
    },
    {
      "cell_type": "code",
      "source": [
        "iris_parsed_2 = iris_parsed_1.map(lambda x:( str(x[-1]), float(x[0])))\n",
        "iris_parsed_2.take(10)"
      ],
      "metadata": {
        "colab": {
          "base_uri": "https://localhost:8080/"
        },
        "id": "IwNepZqnFVrB",
        "outputId": "48bf4354-41f0-4714-9585-7a6f954aac32"
      },
      "execution_count": null,
      "outputs": [
        {
          "output_type": "execute_result",
          "data": {
            "text/plain": [
              "[('Iris-setosa', 4.6),\n",
              " ('Iris-setosa', 5.0),\n",
              " ('Iris-setosa', 4.9),\n",
              " ('Iris-setosa', 4.9),\n",
              " ('Iris-setosa', 4.9),\n",
              " ('Iris-setosa', 4.8),\n",
              " ('Iris-setosa', 5.7),\n",
              " ('Iris-setosa', 5.1),\n",
              " ('Iris-setosa', 5.0),\n",
              " ('Iris-setosa', 5.2)]"
            ]
          },
          "metadata": {},
          "execution_count": 45
        }
      ]
    },
    {
      "cell_type": "markdown",
      "source": [
        "- 종 별 개수와 꽃받침 길이 값을 합산하여 나타내기 위해 mapValues()를 사용하여 각 꽃받침 길이와 숫자1을 저장하는 rdd 생성"
      ],
      "metadata": {
        "id": "6P-hOqouI11-"
      }
    },
    {
      "cell_type": "code",
      "source": [
        "# 종 별 갯수와 꽃받침 길이 값을 합산하여 나타내기\n",
        "iris_totals = iris_parsed_2.mapValues(lambda x: (x,1))\n",
        "iris_totals.take(10)"
      ],
      "metadata": {
        "colab": {
          "base_uri": "https://localhost:8080/"
        },
        "id": "-i_E4YpkIzdH",
        "outputId": "07376a11-7cb5-4a5d-f1f0-aaef4641cc21"
      },
      "execution_count": null,
      "outputs": [
        {
          "output_type": "execute_result",
          "data": {
            "text/plain": [
              "[('Iris-setosa', (4.6, 1)),\n",
              " ('Iris-setosa', (5.0, 1)),\n",
              " ('Iris-setosa', (4.9, 1)),\n",
              " ('Iris-setosa', (4.9, 1)),\n",
              " ('Iris-setosa', (4.9, 1)),\n",
              " ('Iris-setosa', (4.8, 1)),\n",
              " ('Iris-setosa', (5.7, 1)),\n",
              " ('Iris-setosa', (5.1, 1)),\n",
              " ('Iris-setosa', (5.0, 1)),\n",
              " ('Iris-setosa', (5.2, 1))]"
            ]
          },
          "metadata": {},
          "execution_count": 46
        }
      ]
    },
    {
      "cell_type": "code",
      "source": [
        "# 각 종 별 평균 계산을 위하여 reduceByKey()함수 사용하여 합산처리 후 평균 계산\n",
        "iris_totals = iris_totals.reduceByKey(lambda x,y : (x[0] + y[0], x[1] + y[1]))\n",
        "iris_totals.collect()"
      ],
      "metadata": {
        "colab": {
          "base_uri": "https://localhost:8080/"
        },
        "id": "5lYW36ieJEOX",
        "outputId": "010bea68-ec5d-4591-850e-97369f9b7385"
      },
      "execution_count": null,
      "outputs": [
        {
          "output_type": "execute_result",
          "data": {
            "text/plain": [
              "[('Iris-setosa', (250.29999999999998, 50)),\n",
              " ('Iris-virginica', (329.40000000000003, 50)),\n",
              " ('Iris-versicolor', (296.79999999999995, 50))]"
            ]
          },
          "metadata": {},
          "execution_count": 47
        }
      ]
    },
    {
      "cell_type": "code",
      "source": [
        "# 종 별 꽃받침 길이의 평균\n",
        "iris_means = iris_totals.mapValues(lambda x: (x[0] / x[1]))\n",
        "result = iris_means.collect()\n",
        "result"
      ],
      "metadata": {
        "colab": {
          "base_uri": "https://localhost:8080/"
        },
        "id": "M96QS6OEJuRR",
        "outputId": "e6a4815f-4ee8-4e59-e864-fd2194c5da64"
      },
      "execution_count": null,
      "outputs": [
        {
          "output_type": "execute_result",
          "data": {
            "text/plain": [
              "[('Iris-setosa', 5.005999999999999),\n",
              " ('Iris-virginica', 6.588000000000001),\n",
              " ('Iris-versicolor', 5.935999999999999)]"
            ]
          },
          "metadata": {},
          "execution_count": 48
        }
      ]
    },
    {
      "cell_type": "code",
      "source": [
        "#print\n",
        "for val in result:\n",
        "  print(f\"iris species {val[0]} has an average sepal length of {val[1]}\")"
      ],
      "metadata": {
        "colab": {
          "base_uri": "https://localhost:8080/"
        },
        "id": "e3Vm1PUoJ5lE",
        "outputId": "db9d2387-1dd5-43fd-872b-4d423d3804da"
      },
      "execution_count": null,
      "outputs": [
        {
          "output_type": "stream",
          "name": "stdout",
          "text": [
            "iris species Iris-setosa has an average sepal length of 5.005999999999999\n",
            "iris species Iris-virginica has an average sepal length of 6.588000000000001\n",
            "iris species Iris-versicolor has an average sepal length of 5.935999999999999\n"
          ]
        }
      ]
    },
    {
      "cell_type": "markdown",
      "source": [
        "sortBy() 함수\n",
        "- 두번째 인자 False:내림차순, True(defalut):오름차순"
      ],
      "metadata": {
        "id": "-Z_vyVZnKUxr"
      }
    },
    {
      "cell_type": "code",
      "source": [
        "#정렬\n",
        "iris_sort = iris_means.sortBy(lambda x: x[1], False)\n",
        "iris_sort.collect()"
      ],
      "metadata": {
        "colab": {
          "base_uri": "https://localhost:8080/"
        },
        "id": "jEtMmvfHKD9r",
        "outputId": "83f1557f-d679-41de-dc73-63427b2ebfc0"
      },
      "execution_count": null,
      "outputs": [
        {
          "output_type": "execute_result",
          "data": {
            "text/plain": [
              "[('Iris-virginica', 6.588000000000001),\n",
              " ('Iris-versicolor', 5.935999999999999),\n",
              " ('Iris-setosa', 5.005999999999999)]"
            ]
          },
          "metadata": {},
          "execution_count": 50
        }
      ]
    },
    {
      "cell_type": "code",
      "source": [],
      "metadata": {
        "id": "JIirt8G3Kl0N"
      },
      "execution_count": null,
      "outputs": []
    },
    {
      "cell_type": "code",
      "source": [],
      "metadata": {
        "id": "DF2m8eWXZrcx"
      },
      "execution_count": null,
      "outputs": []
    }
  ]
}