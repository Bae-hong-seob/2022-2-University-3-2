{
  "nbformat": 4,
  "nbformat_minor": 0,
  "metadata": {
    "colab": {
      "provenance": [],
      "mount_file_id": "1sHCld6Y3JDayiY-5EsCe0-0ViW8Jw3Jx",
      "authorship_tag": "ABX9TyMDINK1gmwxJo7O2iRZ+Pq3",
      "include_colab_link": true
    },
    "kernelspec": {
      "name": "python3",
      "display_name": "Python 3"
    },
    "language_info": {
      "name": "python"
    }
  },
  "cells": [
    {
      "cell_type": "markdown",
      "metadata": {
        "id": "view-in-github",
        "colab_type": "text"
      },
      "source": [
        "<a href=\"https://colab.research.google.com/github/Bae-hong-seob/University-3-2/blob/main/Big_data_process_and_application/9_Decision_Tree.ipynb\" target=\"_parent\"><img src=\"https://colab.research.google.com/assets/colab-badge.svg\" alt=\"Open In Colab\"/></a>"
      ]
    },
    {
      "cell_type": "code",
      "execution_count": 1,
      "metadata": {
        "colab": {
          "base_uri": "https://localhost:8080/"
        },
        "id": "6vV74pb5fCKv",
        "outputId": "225d8d17-9adc-46d0-8da4-beee84bcb1e9"
      },
      "outputs": [
        {
          "output_type": "stream",
          "name": "stdout",
          "text": [
            "Looking in indexes: https://pypi.org/simple, https://us-python.pkg.dev/colab-wheels/public/simple/\n",
            "Collecting pyspark\n",
            "  Downloading pyspark-3.3.1.tar.gz (281.4 MB)\n",
            "\u001b[K     |████████████████████████████████| 281.4 MB 44 kB/s \n",
            "\u001b[?25hCollecting py4j==0.10.9.5\n",
            "  Downloading py4j-0.10.9.5-py2.py3-none-any.whl (199 kB)\n",
            "\u001b[K     |████████████████████████████████| 199 kB 55.8 MB/s \n",
            "\u001b[?25hBuilding wheels for collected packages: pyspark\n",
            "  Building wheel for pyspark (setup.py) ... \u001b[?25l\u001b[?25hdone\n",
            "  Created wheel for pyspark: filename=pyspark-3.3.1-py2.py3-none-any.whl size=281845514 sha256=94ee7d86ed9e509e870e74963a5ae9731c45ad33f7e79003458523e274ae0684\n",
            "  Stored in directory: /root/.cache/pip/wheels/42/59/f5/79a5bf931714dcd201b26025347785f087370a10a3329a899c\n",
            "Successfully built pyspark\n",
            "Installing collected packages: py4j, pyspark\n",
            "Successfully installed py4j-0.10.9.5 pyspark-3.3.1\n"
          ]
        }
      ],
      "source": [
        "!pip install pyspark"
      ]
    },
    {
      "cell_type": "code",
      "source": [
        "from pyspark.context import SparkContext\n",
        "from pyspark.sql.session import SparkSession"
      ],
      "metadata": {
        "id": "cXcVTDqafGHz"
      },
      "execution_count": 2,
      "outputs": []
    },
    {
      "cell_type": "code",
      "source": [
        "sc= SparkContext('local')\n",
        "spark = SparkSession(sc)"
      ],
      "metadata": {
        "id": "J-8Dfi-CfKvN"
      },
      "execution_count": 4,
      "outputs": []
    },
    {
      "cell_type": "code",
      "source": [
        "!apt-get install openjdk-8-jdk-headless -qq"
      ],
      "metadata": {
        "colab": {
          "base_uri": "https://localhost:8080/"
        },
        "id": "fG7bcazbfPVw",
        "outputId": "01e9da58-5b52-4ff6-915e-89aaeb536751"
      },
      "execution_count": 5,
      "outputs": [
        {
          "output_type": "stream",
          "name": "stdout",
          "text": [
            "Selecting previously unselected package openjdk-8-jre-headless:amd64.\n",
            "(Reading database ... 123991 files and directories currently installed.)\n",
            "Preparing to unpack .../openjdk-8-jre-headless_8u352-ga-1~18.04_amd64.deb ...\n",
            "Unpacking openjdk-8-jre-headless:amd64 (8u352-ga-1~18.04) ...\n",
            "Selecting previously unselected package openjdk-8-jdk-headless:amd64.\n",
            "Preparing to unpack .../openjdk-8-jdk-headless_8u352-ga-1~18.04_amd64.deb ...\n",
            "Unpacking openjdk-8-jdk-headless:amd64 (8u352-ga-1~18.04) ...\n",
            "Setting up openjdk-8-jre-headless:amd64 (8u352-ga-1~18.04) ...\n",
            "update-alternatives: using /usr/lib/jvm/java-8-openjdk-amd64/jre/bin/orbd to provide /usr/bin/orbd (orbd) in auto mode\n",
            "update-alternatives: using /usr/lib/jvm/java-8-openjdk-amd64/jre/bin/servertool to provide /usr/bin/servertool (servertool) in auto mode\n",
            "update-alternatives: using /usr/lib/jvm/java-8-openjdk-amd64/jre/bin/tnameserv to provide /usr/bin/tnameserv (tnameserv) in auto mode\n",
            "Setting up openjdk-8-jdk-headless:amd64 (8u352-ga-1~18.04) ...\n",
            "update-alternatives: using /usr/lib/jvm/java-8-openjdk-amd64/bin/idlj to provide /usr/bin/idlj (idlj) in auto mode\n",
            "update-alternatives: using /usr/lib/jvm/java-8-openjdk-amd64/bin/wsimport to provide /usr/bin/wsimport (wsimport) in auto mode\n",
            "update-alternatives: using /usr/lib/jvm/java-8-openjdk-amd64/bin/jsadebugd to provide /usr/bin/jsadebugd (jsadebugd) in auto mode\n",
            "update-alternatives: using /usr/lib/jvm/java-8-openjdk-amd64/bin/native2ascii to provide /usr/bin/native2ascii (native2ascii) in auto mode\n",
            "update-alternatives: using /usr/lib/jvm/java-8-openjdk-amd64/bin/javah to provide /usr/bin/javah (javah) in auto mode\n",
            "update-alternatives: using /usr/lib/jvm/java-8-openjdk-amd64/bin/clhsdb to provide /usr/bin/clhsdb (clhsdb) in auto mode\n",
            "update-alternatives: using /usr/lib/jvm/java-8-openjdk-amd64/bin/xjc to provide /usr/bin/xjc (xjc) in auto mode\n",
            "update-alternatives: using /usr/lib/jvm/java-8-openjdk-amd64/bin/hsdb to provide /usr/bin/hsdb (hsdb) in auto mode\n",
            "update-alternatives: using /usr/lib/jvm/java-8-openjdk-amd64/bin/schemagen to provide /usr/bin/schemagen (schemagen) in auto mode\n",
            "update-alternatives: using /usr/lib/jvm/java-8-openjdk-amd64/bin/extcheck to provide /usr/bin/extcheck (extcheck) in auto mode\n",
            "update-alternatives: using /usr/lib/jvm/java-8-openjdk-amd64/bin/jhat to provide /usr/bin/jhat (jhat) in auto mode\n",
            "update-alternatives: using /usr/lib/jvm/java-8-openjdk-amd64/bin/wsgen to provide /usr/bin/wsgen (wsgen) in auto mode\n"
          ]
        }
      ]
    },
    {
      "cell_type": "code",
      "source": [
        "!pip install findspark"
      ],
      "metadata": {
        "colab": {
          "base_uri": "https://localhost:8080/"
        },
        "id": "PGjBDu5XfTI1",
        "outputId": "bf17e1b4-6064-4e79-a1d1-4b40fd408755"
      },
      "execution_count": 6,
      "outputs": [
        {
          "output_type": "stream",
          "name": "stdout",
          "text": [
            "Looking in indexes: https://pypi.org/simple, https://us-python.pkg.dev/colab-wheels/public/simple/\n",
            "Collecting findspark\n",
            "  Downloading findspark-2.0.1-py2.py3-none-any.whl (4.4 kB)\n",
            "Installing collected packages: findspark\n",
            "Successfully installed findspark-2.0.1\n"
          ]
        }
      ]
    },
    {
      "cell_type": "code",
      "source": [
        "import pyspark\n",
        "import findspark\n",
        "from pyspark.sql import SparkSession"
      ],
      "metadata": {
        "id": "jRPpwdy0fUV6"
      },
      "execution_count": 7,
      "outputs": []
    },
    {
      "cell_type": "code",
      "source": [
        "import pyspark.sql.functions as f\n",
        "import pyspark.sql.types as types\n",
        "from pyspark.sql.types import *\n",
        "from pyspark.sql.functions import *"
      ],
      "metadata": {
        "id": "6ryJSpoJfbpv"
      },
      "execution_count": 8,
      "outputs": []
    },
    {
      "cell_type": "code",
      "source": [
        "dataset = spark.read.csv('/content/drive/MyDrive/3-2 university/Big_data_process_and_application/input/Iris.csv', inferSchema=True, header=True)\n",
        "dataset.show(5)"
      ],
      "metadata": {
        "colab": {
          "base_uri": "https://localhost:8080/"
        },
        "id": "wbxZpVB8flNI",
        "outputId": "d7e21dfc-da99-4db0-8c55-20e1a87c020e"
      },
      "execution_count": 9,
      "outputs": [
        {
          "output_type": "stream",
          "name": "stdout",
          "text": [
            "+-------------+------------+-------------+------------+-----------+\n",
            "|SepalLengthCm|SepalWidthCm|PetalLengthCm|PetalWidthCm|    Species|\n",
            "+-------------+------------+-------------+------------+-----------+\n",
            "|          5.1|         3.5|          1.4|         0.2|Iris-setosa|\n",
            "|          4.9|         3.0|          1.4|         0.2|Iris-setosa|\n",
            "|          4.7|         3.2|          1.3|         0.2|Iris-setosa|\n",
            "|          4.6|         3.1|          1.5|         0.2|Iris-setosa|\n",
            "|          5.0|         3.6|          1.4|         0.2|Iris-setosa|\n",
            "+-------------+------------+-------------+------------+-----------+\n",
            "only showing top 5 rows\n",
            "\n"
          ]
        }
      ]
    },
    {
      "cell_type": "code",
      "source": [
        "dataset.describe(['SepalLengthCm', 'SepalWidthCm', 'PetalLengthCm', 'PetalWidthCm']).show()"
      ],
      "metadata": {
        "colab": {
          "base_uri": "https://localhost:8080/"
        },
        "id": "cqiu_xYdgBDg",
        "outputId": "8567cb03-454a-455f-bd89-ba04c68dc658"
      },
      "execution_count": 10,
      "outputs": [
        {
          "output_type": "stream",
          "name": "stdout",
          "text": [
            "+-------+------------------+-------------------+------------------+------------------+\n",
            "|summary|     SepalLengthCm|       SepalWidthCm|     PetalLengthCm|      PetalWidthCm|\n",
            "+-------+------------------+-------------------+------------------+------------------+\n",
            "|  count|               150|                150|               150|               150|\n",
            "|   mean| 5.843333333333335| 3.0540000000000007|3.7586666666666693|1.1986666666666672|\n",
            "| stddev|0.8280661279778637|0.43359431136217375| 1.764420419952262|0.7631607417008414|\n",
            "|    min|               4.3|                2.0|               1.0|               0.1|\n",
            "|    max|               7.9|                4.4|               6.9|               2.5|\n",
            "+-------+------------------+-------------------+------------------+------------------+\n",
            "\n"
          ]
        }
      ]
    },
    {
      "cell_type": "code",
      "source": [
        "from pyspark.ml.linalg import Vectors\n",
        "from pyspark.ml.feature import VectorAssembler\n",
        "from pyspark.ml.feature import StringIndexer"
      ],
      "metadata": {
        "id": "2Q8jLquUgNH7"
      },
      "execution_count": 11,
      "outputs": []
    },
    {
      "cell_type": "code",
      "source": [
        "assembler = VectorAssembler(inputCols=['SepalLengthCm', 'SepalWidthCm', 'PetalLengthCm', 'PetalWidthCm'], outputCol='features')\n",
        "output = assembler.transform(dataset)\n",
        "output.show(5)"
      ],
      "metadata": {
        "colab": {
          "base_uri": "https://localhost:8080/"
        },
        "id": "NG-N_rd3gX5L",
        "outputId": "b9bdf63f-e8e5-410f-d4aa-439bcf180f70"
      },
      "execution_count": 12,
      "outputs": [
        {
          "output_type": "stream",
          "name": "stdout",
          "text": [
            "+-------------+------------+-------------+------------+-----------+-----------------+\n",
            "|SepalLengthCm|SepalWidthCm|PetalLengthCm|PetalWidthCm|    Species|         features|\n",
            "+-------------+------------+-------------+------------+-----------+-----------------+\n",
            "|          5.1|         3.5|          1.4|         0.2|Iris-setosa|[5.1,3.5,1.4,0.2]|\n",
            "|          4.9|         3.0|          1.4|         0.2|Iris-setosa|[4.9,3.0,1.4,0.2]|\n",
            "|          4.7|         3.2|          1.3|         0.2|Iris-setosa|[4.7,3.2,1.3,0.2]|\n",
            "|          4.6|         3.1|          1.5|         0.2|Iris-setosa|[4.6,3.1,1.5,0.2]|\n",
            "|          5.0|         3.6|          1.4|         0.2|Iris-setosa|[5.0,3.6,1.4,0.2]|\n",
            "+-------------+------------+-------------+------------+-----------+-----------------+\n",
            "only showing top 5 rows\n",
            "\n"
          ]
        }
      ]
    },
    {
      "cell_type": "code",
      "source": [
        "data = output.select('features','Species')\n",
        "data.show(5)"
      ],
      "metadata": {
        "colab": {
          "base_uri": "https://localhost:8080/"
        },
        "id": "u0-nqXK6hGQk",
        "outputId": "1a013242-dc3c-4e37-9d00-8121b92b1d77"
      },
      "execution_count": 14,
      "outputs": [
        {
          "output_type": "stream",
          "name": "stdout",
          "text": [
            "+-----------------+-----------+\n",
            "|         features|    Species|\n",
            "+-----------------+-----------+\n",
            "|[5.1,3.5,1.4,0.2]|Iris-setosa|\n",
            "|[4.9,3.0,1.4,0.2]|Iris-setosa|\n",
            "|[4.7,3.2,1.3,0.2]|Iris-setosa|\n",
            "|[4.6,3.1,1.5,0.2]|Iris-setosa|\n",
            "|[5.0,3.6,1.4,0.2]|Iris-setosa|\n",
            "+-----------------+-----------+\n",
            "only showing top 5 rows\n",
            "\n"
          ]
        }
      ]
    },
    {
      "cell_type": "code",
      "source": [
        "I_indexer = StringIndexer(inputCol='Species', outputCol='labelIndex')\n",
        "finalized_data = I_indexer.fit(data).transform(data)\n",
        "finalized_data.show(200)"
      ],
      "metadata": {
        "colab": {
          "base_uri": "https://localhost:8080/"
        },
        "id": "hOoKse9rgpbd",
        "outputId": "21b37d67-7c7d-4f17-81c1-929e295da9bc"
      },
      "execution_count": 15,
      "outputs": [
        {
          "output_type": "stream",
          "name": "stdout",
          "text": [
            "+-----------------+---------------+----------+\n",
            "|         features|        Species|labelIndex|\n",
            "+-----------------+---------------+----------+\n",
            "|[5.1,3.5,1.4,0.2]|    Iris-setosa|       0.0|\n",
            "|[4.9,3.0,1.4,0.2]|    Iris-setosa|       0.0|\n",
            "|[4.7,3.2,1.3,0.2]|    Iris-setosa|       0.0|\n",
            "|[4.6,3.1,1.5,0.2]|    Iris-setosa|       0.0|\n",
            "|[5.0,3.6,1.4,0.2]|    Iris-setosa|       0.0|\n",
            "|[5.4,3.9,1.7,0.4]|    Iris-setosa|       0.0|\n",
            "|[4.6,3.4,1.4,0.3]|    Iris-setosa|       0.0|\n",
            "|[5.0,3.4,1.5,0.2]|    Iris-setosa|       0.0|\n",
            "|[4.4,2.9,1.4,0.2]|    Iris-setosa|       0.0|\n",
            "|[4.9,3.1,1.5,0.1]|    Iris-setosa|       0.0|\n",
            "|[5.4,3.7,1.5,0.2]|    Iris-setosa|       0.0|\n",
            "|[4.8,3.4,1.6,0.2]|    Iris-setosa|       0.0|\n",
            "|[4.8,3.0,1.4,0.1]|    Iris-setosa|       0.0|\n",
            "|[4.3,3.0,1.1,0.1]|    Iris-setosa|       0.0|\n",
            "|[5.8,4.0,1.2,0.2]|    Iris-setosa|       0.0|\n",
            "|[5.7,4.4,1.5,0.4]|    Iris-setosa|       0.0|\n",
            "|[5.4,3.9,1.3,0.4]|    Iris-setosa|       0.0|\n",
            "|[5.1,3.5,1.4,0.3]|    Iris-setosa|       0.0|\n",
            "|[5.7,3.8,1.7,0.3]|    Iris-setosa|       0.0|\n",
            "|[5.1,3.8,1.5,0.3]|    Iris-setosa|       0.0|\n",
            "|[5.4,3.4,1.7,0.2]|    Iris-setosa|       0.0|\n",
            "|[5.1,3.7,1.5,0.4]|    Iris-setosa|       0.0|\n",
            "|[4.6,3.6,1.0,0.2]|    Iris-setosa|       0.0|\n",
            "|[5.1,3.3,1.7,0.5]|    Iris-setosa|       0.0|\n",
            "|[4.8,3.4,1.9,0.2]|    Iris-setosa|       0.0|\n",
            "|[5.0,3.0,1.6,0.2]|    Iris-setosa|       0.0|\n",
            "|[5.0,3.4,1.6,0.4]|    Iris-setosa|       0.0|\n",
            "|[5.2,3.5,1.5,0.2]|    Iris-setosa|       0.0|\n",
            "|[5.2,3.4,1.4,0.2]|    Iris-setosa|       0.0|\n",
            "|[4.7,3.2,1.6,0.2]|    Iris-setosa|       0.0|\n",
            "|[4.8,3.1,1.6,0.2]|    Iris-setosa|       0.0|\n",
            "|[5.4,3.4,1.5,0.4]|    Iris-setosa|       0.0|\n",
            "|[5.2,4.1,1.5,0.1]|    Iris-setosa|       0.0|\n",
            "|[5.5,4.2,1.4,0.2]|    Iris-setosa|       0.0|\n",
            "|[4.9,3.1,1.5,0.1]|    Iris-setosa|       0.0|\n",
            "|[5.0,3.2,1.2,0.2]|    Iris-setosa|       0.0|\n",
            "|[5.5,3.5,1.3,0.2]|    Iris-setosa|       0.0|\n",
            "|[4.9,3.1,1.5,0.1]|    Iris-setosa|       0.0|\n",
            "|[4.4,3.0,1.3,0.2]|    Iris-setosa|       0.0|\n",
            "|[5.1,3.4,1.5,0.2]|    Iris-setosa|       0.0|\n",
            "|[5.0,3.5,1.3,0.3]|    Iris-setosa|       0.0|\n",
            "|[4.5,2.3,1.3,0.3]|    Iris-setosa|       0.0|\n",
            "|[4.4,3.2,1.3,0.2]|    Iris-setosa|       0.0|\n",
            "|[5.0,3.5,1.6,0.6]|    Iris-setosa|       0.0|\n",
            "|[5.1,3.8,1.9,0.4]|    Iris-setosa|       0.0|\n",
            "|[4.8,3.0,1.4,0.3]|    Iris-setosa|       0.0|\n",
            "|[5.1,3.8,1.6,0.2]|    Iris-setosa|       0.0|\n",
            "|[4.6,3.2,1.4,0.2]|    Iris-setosa|       0.0|\n",
            "|[5.3,3.7,1.5,0.2]|    Iris-setosa|       0.0|\n",
            "|[5.0,3.3,1.4,0.2]|    Iris-setosa|       0.0|\n",
            "|[7.0,3.2,4.7,1.4]|Iris-versicolor|       1.0|\n",
            "|[6.4,3.2,4.5,1.5]|Iris-versicolor|       1.0|\n",
            "|[6.9,3.1,4.9,1.5]|Iris-versicolor|       1.0|\n",
            "|[5.5,2.3,4.0,1.3]|Iris-versicolor|       1.0|\n",
            "|[6.5,2.8,4.6,1.5]|Iris-versicolor|       1.0|\n",
            "|[5.7,2.8,4.5,1.3]|Iris-versicolor|       1.0|\n",
            "|[6.3,3.3,4.7,1.6]|Iris-versicolor|       1.0|\n",
            "|[4.9,2.4,3.3,1.0]|Iris-versicolor|       1.0|\n",
            "|[6.6,2.9,4.6,1.3]|Iris-versicolor|       1.0|\n",
            "|[5.2,2.7,3.9,1.4]|Iris-versicolor|       1.0|\n",
            "|[5.0,2.0,3.5,1.0]|Iris-versicolor|       1.0|\n",
            "|[5.9,3.0,4.2,1.5]|Iris-versicolor|       1.0|\n",
            "|[6.0,2.2,4.0,1.0]|Iris-versicolor|       1.0|\n",
            "|[6.1,2.9,4.7,1.4]|Iris-versicolor|       1.0|\n",
            "|[5.6,2.9,3.6,1.3]|Iris-versicolor|       1.0|\n",
            "|[6.7,3.1,4.4,1.4]|Iris-versicolor|       1.0|\n",
            "|[5.6,3.0,4.5,1.5]|Iris-versicolor|       1.0|\n",
            "|[5.8,2.7,4.1,1.0]|Iris-versicolor|       1.0|\n",
            "|[6.2,2.2,4.5,1.5]|Iris-versicolor|       1.0|\n",
            "|[5.6,2.5,3.9,1.1]|Iris-versicolor|       1.0|\n",
            "|[5.9,3.2,4.8,1.8]|Iris-versicolor|       1.0|\n",
            "|[6.1,2.8,4.0,1.3]|Iris-versicolor|       1.0|\n",
            "|[6.3,2.5,4.9,1.5]|Iris-versicolor|       1.0|\n",
            "|[6.1,2.8,4.7,1.2]|Iris-versicolor|       1.0|\n",
            "|[6.4,2.9,4.3,1.3]|Iris-versicolor|       1.0|\n",
            "|[6.6,3.0,4.4,1.4]|Iris-versicolor|       1.0|\n",
            "|[6.8,2.8,4.8,1.4]|Iris-versicolor|       1.0|\n",
            "|[6.7,3.0,5.0,1.7]|Iris-versicolor|       1.0|\n",
            "|[6.0,2.9,4.5,1.5]|Iris-versicolor|       1.0|\n",
            "|[5.7,2.6,3.5,1.0]|Iris-versicolor|       1.0|\n",
            "|[5.5,2.4,3.8,1.1]|Iris-versicolor|       1.0|\n",
            "|[5.5,2.4,3.7,1.0]|Iris-versicolor|       1.0|\n",
            "|[5.8,2.7,3.9,1.2]|Iris-versicolor|       1.0|\n",
            "|[6.0,2.7,5.1,1.6]|Iris-versicolor|       1.0|\n",
            "|[5.4,3.0,4.5,1.5]|Iris-versicolor|       1.0|\n",
            "|[6.0,3.4,4.5,1.6]|Iris-versicolor|       1.0|\n",
            "|[6.7,3.1,4.7,1.5]|Iris-versicolor|       1.0|\n",
            "|[6.3,2.3,4.4,1.3]|Iris-versicolor|       1.0|\n",
            "|[5.6,3.0,4.1,1.3]|Iris-versicolor|       1.0|\n",
            "|[5.5,2.5,4.0,1.3]|Iris-versicolor|       1.0|\n",
            "|[5.5,2.6,4.4,1.2]|Iris-versicolor|       1.0|\n",
            "|[6.1,3.0,4.6,1.4]|Iris-versicolor|       1.0|\n",
            "|[5.8,2.6,4.0,1.2]|Iris-versicolor|       1.0|\n",
            "|[5.0,2.3,3.3,1.0]|Iris-versicolor|       1.0|\n",
            "|[5.6,2.7,4.2,1.3]|Iris-versicolor|       1.0|\n",
            "|[5.7,3.0,4.2,1.2]|Iris-versicolor|       1.0|\n",
            "|[5.7,2.9,4.2,1.3]|Iris-versicolor|       1.0|\n",
            "|[6.2,2.9,4.3,1.3]|Iris-versicolor|       1.0|\n",
            "|[5.1,2.5,3.0,1.1]|Iris-versicolor|       1.0|\n",
            "|[5.7,2.8,4.1,1.3]|Iris-versicolor|       1.0|\n",
            "|[6.3,3.3,6.0,2.5]| Iris-virginica|       2.0|\n",
            "|[5.8,2.7,5.1,1.9]| Iris-virginica|       2.0|\n",
            "|[7.1,3.0,5.9,2.1]| Iris-virginica|       2.0|\n",
            "|[6.3,2.9,5.6,1.8]| Iris-virginica|       2.0|\n",
            "|[6.5,3.0,5.8,2.2]| Iris-virginica|       2.0|\n",
            "|[7.6,3.0,6.6,2.1]| Iris-virginica|       2.0|\n",
            "|[4.9,2.5,4.5,1.7]| Iris-virginica|       2.0|\n",
            "|[7.3,2.9,6.3,1.8]| Iris-virginica|       2.0|\n",
            "|[6.7,2.5,5.8,1.8]| Iris-virginica|       2.0|\n",
            "|[7.2,3.6,6.1,2.5]| Iris-virginica|       2.0|\n",
            "|[6.5,3.2,5.1,2.0]| Iris-virginica|       2.0|\n",
            "|[6.4,2.7,5.3,1.9]| Iris-virginica|       2.0|\n",
            "|[6.8,3.0,5.5,2.1]| Iris-virginica|       2.0|\n",
            "|[5.7,2.5,5.0,2.0]| Iris-virginica|       2.0|\n",
            "|[5.8,2.8,5.1,2.4]| Iris-virginica|       2.0|\n",
            "|[6.4,3.2,5.3,2.3]| Iris-virginica|       2.0|\n",
            "|[6.5,3.0,5.5,1.8]| Iris-virginica|       2.0|\n",
            "|[7.7,3.8,6.7,2.2]| Iris-virginica|       2.0|\n",
            "|[7.7,2.6,6.9,2.3]| Iris-virginica|       2.0|\n",
            "|[6.0,2.2,5.0,1.5]| Iris-virginica|       2.0|\n",
            "|[6.9,3.2,5.7,2.3]| Iris-virginica|       2.0|\n",
            "|[5.6,2.8,4.9,2.0]| Iris-virginica|       2.0|\n",
            "|[7.7,2.8,6.7,2.0]| Iris-virginica|       2.0|\n",
            "|[6.3,2.7,4.9,1.8]| Iris-virginica|       2.0|\n",
            "|[6.7,3.3,5.7,2.1]| Iris-virginica|       2.0|\n",
            "|[7.2,3.2,6.0,1.8]| Iris-virginica|       2.0|\n",
            "|[6.2,2.8,4.8,1.8]| Iris-virginica|       2.0|\n",
            "|[6.1,3.0,4.9,1.8]| Iris-virginica|       2.0|\n",
            "|[6.4,2.8,5.6,2.1]| Iris-virginica|       2.0|\n",
            "|[7.2,3.0,5.8,1.6]| Iris-virginica|       2.0|\n",
            "|[7.4,2.8,6.1,1.9]| Iris-virginica|       2.0|\n",
            "|[7.9,3.8,6.4,2.0]| Iris-virginica|       2.0|\n",
            "|[6.4,2.8,5.6,2.2]| Iris-virginica|       2.0|\n",
            "|[6.3,2.8,5.1,1.5]| Iris-virginica|       2.0|\n",
            "|[6.1,2.6,5.6,1.4]| Iris-virginica|       2.0|\n",
            "|[7.7,3.0,6.1,2.3]| Iris-virginica|       2.0|\n",
            "|[6.3,3.4,5.6,2.4]| Iris-virginica|       2.0|\n",
            "|[6.4,3.1,5.5,1.8]| Iris-virginica|       2.0|\n",
            "|[6.0,3.0,4.8,1.8]| Iris-virginica|       2.0|\n",
            "|[6.9,3.1,5.4,2.1]| Iris-virginica|       2.0|\n",
            "|[6.7,3.1,5.6,2.4]| Iris-virginica|       2.0|\n",
            "|[6.9,3.1,5.1,2.3]| Iris-virginica|       2.0|\n",
            "|[5.8,2.7,5.1,1.9]| Iris-virginica|       2.0|\n",
            "|[6.8,3.2,5.9,2.3]| Iris-virginica|       2.0|\n",
            "|[6.7,3.3,5.7,2.5]| Iris-virginica|       2.0|\n",
            "|[6.7,3.0,5.2,2.3]| Iris-virginica|       2.0|\n",
            "|[6.3,2.5,5.0,1.9]| Iris-virginica|       2.0|\n",
            "|[6.5,3.0,5.2,2.0]| Iris-virginica|       2.0|\n",
            "|[6.2,3.4,5.4,2.3]| Iris-virginica|       2.0|\n",
            "|[5.9,3.0,5.1,1.8]| Iris-virginica|       2.0|\n",
            "+-----------------+---------------+----------+\n",
            "\n"
          ]
        }
      ]
    },
    {
      "cell_type": "code",
      "source": [
        "train_data , test_data = finalized_data.randomSplit([0.7, 0.3])"
      ],
      "metadata": {
        "id": "Yi9YFeOkg7nL"
      },
      "execution_count": 16,
      "outputs": []
    },
    {
      "cell_type": "code",
      "source": [
        "from pyspark.ml.classification import DecisionTreeClassifier\n",
        "from pyspark.ml.evaluation import MulticlassClassificationEvaluator"
      ],
      "metadata": {
        "id": "6ilmcsY_hQ3b"
      },
      "execution_count": 17,
      "outputs": []
    },
    {
      "cell_type": "code",
      "source": [
        "DecisionTree = DecisionTreeClassifier(labelCol='labelIndex', featuresCol='features')\n",
        "modelDT = DecisionTree.fit(train_data)"
      ],
      "metadata": {
        "id": "0oyO4AfthaP0"
      },
      "execution_count": 18,
      "outputs": []
    },
    {
      "cell_type": "code",
      "source": [
        "print(modelDT)"
      ],
      "metadata": {
        "colab": {
          "base_uri": "https://localhost:8080/"
        },
        "id": "ydQlMtLIhj11",
        "outputId": "65840e68-adcd-4036-e7e6-8e664ce1f007"
      },
      "execution_count": 19,
      "outputs": [
        {
          "output_type": "stream",
          "name": "stdout",
          "text": [
            "DecisionTreeClassificationModel: uid=DecisionTreeClassifier_6b5c6b0e8cbf, depth=4, numNodes=11, numClasses=3, numFeatures=4\n"
          ]
        }
      ]
    },
    {
      "cell_type": "code",
      "source": [
        "predictions = modelDT.transform(test_data)\n",
        "predictions.select('prediction','labelIndex').show(50)"
      ],
      "metadata": {
        "colab": {
          "base_uri": "https://localhost:8080/"
        },
        "id": "ScY8wmothlL_",
        "outputId": "1ef1171c-3756-4fa3-cff6-b82a97bf411e"
      },
      "execution_count": 20,
      "outputs": [
        {
          "output_type": "stream",
          "name": "stdout",
          "text": [
            "+----------+----------+\n",
            "|prediction|labelIndex|\n",
            "+----------+----------+\n",
            "|       0.0|       0.0|\n",
            "|       0.0|       0.0|\n",
            "|       0.0|       0.0|\n",
            "|       0.0|       0.0|\n",
            "|       1.0|       1.0|\n",
            "|       0.0|       0.0|\n",
            "|       1.0|       1.0|\n",
            "|       0.0|       0.0|\n",
            "|       0.0|       0.0|\n",
            "|       0.0|       0.0|\n",
            "|       1.0|       1.0|\n",
            "|       0.0|       0.0|\n",
            "|       0.0|       0.0|\n",
            "|       0.0|       0.0|\n",
            "|       0.0|       0.0|\n",
            "|       0.0|       0.0|\n",
            "|       0.0|       0.0|\n",
            "|       0.0|       0.0|\n",
            "|       0.0|       0.0|\n",
            "|       1.0|       1.0|\n",
            "|       1.0|       1.0|\n",
            "|       1.0|       1.0|\n",
            "|       0.0|       0.0|\n",
            "|       2.0|       2.0|\n",
            "|       1.0|       1.0|\n",
            "|       2.0|       2.0|\n",
            "|       1.0|       1.0|\n",
            "|       1.0|       1.0|\n",
            "|       1.0|       1.0|\n",
            "|       1.0|       2.0|\n",
            "|       1.0|       1.0|\n",
            "|       1.0|       1.0|\n",
            "|       1.0|       1.0|\n",
            "|       1.0|       1.0|\n",
            "|       2.0|       2.0|\n",
            "|       1.0|       1.0|\n",
            "|       2.0|       2.0|\n",
            "|       1.0|       1.0|\n",
            "|       2.0|       2.0|\n",
            "|       1.0|       2.0|\n",
            "|       2.0|       2.0|\n",
            "|       2.0|       2.0|\n",
            "|       2.0|       2.0|\n",
            "|       2.0|       2.0|\n",
            "|       2.0|       2.0|\n",
            "|       2.0|       1.0|\n",
            "|       2.0|       2.0|\n",
            "|       2.0|       2.0|\n",
            "|       2.0|       2.0|\n",
            "|       1.0|       1.0|\n",
            "+----------+----------+\n",
            "only showing top 50 rows\n",
            "\n"
          ]
        }
      ]
    },
    {
      "cell_type": "code",
      "source": [
        "evaluation = MulticlassClassificationEvaluator(labelCol='labelIndex', predictionCol='prediction',metricName='accuracy')"
      ],
      "metadata": {
        "id": "bTbTmhtAhuXt"
      },
      "execution_count": 22,
      "outputs": []
    },
    {
      "cell_type": "code",
      "source": [
        "accuracy = evaluation.evaluate(predictions)\n",
        "print('모델 정확도 = ',(accuracy))"
      ],
      "metadata": {
        "colab": {
          "base_uri": "https://localhost:8080/"
        },
        "id": "J03t0b-zh5xg",
        "outputId": "4b583a72-d492-4f1d-e068-e6957793aa49"
      },
      "execution_count": 24,
      "outputs": [
        {
          "output_type": "stream",
          "name": "stdout",
          "text": [
            "모델 정확도 =  0.9444444444444444\n"
          ]
        }
      ]
    },
    {
      "cell_type": "markdown",
      "source": [
        "#Random forest\n",
        "\n",
        "- 여러 Decision Tree를 생성하고, 평균에 따라 prediction을 수행\n",
        "- 결측치 다루기 쉽고, 대용량 데이터 처리에 효과적\n",
        "- overfitting 문제를 회피하여 모델의 정확도를 향상시킨다.\n",
        "- 데이터의 수가 많아지면 Decision Tree에 비해 속도가 크게 떨어지는 단점은 존재한다."
      ],
      "metadata": {
        "id": "3odGuktQiy3Q"
      }
    },
    {
      "cell_type": "code",
      "source": [
        "from pyspark.ml.classification import RandomForestClassifier"
      ],
      "metadata": {
        "id": "vaFfbH5yiHNs"
      },
      "execution_count": 25,
      "outputs": []
    },
    {
      "cell_type": "code",
      "source": [
        "RandomForest = RandomForestClassifier(labelCol='labelIndex', featuresCol='features', numTrees=10)\n",
        "modelRF = RandomForest.fit(train_data)"
      ],
      "metadata": {
        "id": "NZUd52kGi5Xc"
      },
      "execution_count": 26,
      "outputs": []
    },
    {
      "cell_type": "code",
      "source": [
        "print(modelRF)"
      ],
      "metadata": {
        "colab": {
          "base_uri": "https://localhost:8080/"
        },
        "id": "tgU5FSXRjD-S",
        "outputId": "5794c576-0f39-4371-91ff-5faed2f4f788"
      },
      "execution_count": 27,
      "outputs": [
        {
          "output_type": "stream",
          "name": "stdout",
          "text": [
            "RandomForestClassificationModel: uid=RandomForestClassifier_58c105d461c7, numTrees=10, numClasses=3, numFeatures=4\n"
          ]
        }
      ]
    },
    {
      "cell_type": "code",
      "source": [
        "predictions = modelRF.transform(test_data)\n",
        "predictions.select('prediction', 'labelIndex').show(5)"
      ],
      "metadata": {
        "colab": {
          "base_uri": "https://localhost:8080/"
        },
        "id": "eOFmZzMJjFKK",
        "outputId": "e84d7655-b5c1-4824-a334-831ec006922b"
      },
      "execution_count": 28,
      "outputs": [
        {
          "output_type": "stream",
          "name": "stdout",
          "text": [
            "+----------+----------+\n",
            "|prediction|labelIndex|\n",
            "+----------+----------+\n",
            "|       0.0|       0.0|\n",
            "|       0.0|       0.0|\n",
            "|       0.0|       0.0|\n",
            "|       0.0|       0.0|\n",
            "|       1.0|       1.0|\n",
            "+----------+----------+\n",
            "only showing top 5 rows\n",
            "\n"
          ]
        }
      ]
    },
    {
      "cell_type": "code",
      "source": [
        "evaluation = MulticlassClassificationEvaluator(labelCol='labelIndex', predictionCol='prediction', metricName='accuracy')\n",
        "accuracy = evaluation.evaluate(predictions)\n",
        "print('Random Forest accuracy : ',accuracy)"
      ],
      "metadata": {
        "colab": {
          "base_uri": "https://localhost:8080/"
        },
        "id": "gYkQ-4CqjOYl",
        "outputId": "9eed0783-323b-4611-d153-0bd94e9bde6c"
      },
      "execution_count": 29,
      "outputs": [
        {
          "output_type": "stream",
          "name": "stdout",
          "text": [
            "Random Forest accuracy :  0.9444444444444444\n"
          ]
        }
      ]
    },
    {
      "cell_type": "markdown",
      "source": [
        "#Gradient Boost\n",
        "\n",
        "- RandomForest와 달리 binary tree의 오차를 보완하는 방식 -> 순차적으로 tree를 생성\n",
        "- 여러 개의 트리를 학습시키며, 학습 시 별도의 가중치가 부여된다.\n",
        "- 기계학습 자료를 다시 볼 것."
      ],
      "metadata": {
        "id": "opIwzEVvj6oe"
      }
    },
    {
      "cell_type": "code",
      "source": [],
      "metadata": {
        "id": "3tZYpbxfjiz9"
      },
      "execution_count": null,
      "outputs": []
    }
  ]
}