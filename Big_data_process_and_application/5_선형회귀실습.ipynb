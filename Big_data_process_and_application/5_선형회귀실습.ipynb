{
  "nbformat": 4,
  "nbformat_minor": 0,
  "metadata": {
    "colab": {
      "provenance": [],
      "mount_file_id": "1Dv5F709Ei4Y-iAJRUVvYVbjWA_4X8gLN",
      "authorship_tag": "ABX9TyPt4/8h+tOxLrjhmctNg7i+",
      "include_colab_link": true
    },
    "kernelspec": {
      "name": "python3",
      "display_name": "Python 3"
    },
    "language_info": {
      "name": "python"
    }
  },
  "cells": [
    {
      "cell_type": "markdown",
      "metadata": {
        "id": "view-in-github",
        "colab_type": "text"
      },
      "source": [
        "<a href=\"https://colab.research.google.com/github/Bae-hong-seob/University-3-2/blob/main/Big_data_process_and_application/5_%EC%84%A0%ED%98%95%ED%9A%8C%EA%B7%80%EC%8B%A4%EC%8A%B5.ipynb\" target=\"_parent\"><img src=\"https://colab.research.google.com/assets/colab-badge.svg\" alt=\"Open In Colab\"/></a>"
      ]
    },
    {
      "cell_type": "code",
      "execution_count": null,
      "metadata": {
        "colab": {
          "base_uri": "https://localhost:8080/"
        },
        "id": "4zOuyT5iVcdF",
        "outputId": "1fcf9710-610d-4a89-d0cb-c186277b9cb4"
      },
      "outputs": [
        {
          "output_type": "stream",
          "name": "stdout",
          "text": [
            "Looking in indexes: https://pypi.org/simple, https://us-python.pkg.dev/colab-wheels/public/simple/\n",
            "Collecting pyspark\n",
            "  Downloading pyspark-3.3.1.tar.gz (281.4 MB)\n",
            "\u001b[K     |████████████████████████████████| 281.4 MB 44 kB/s \n",
            "\u001b[?25hCollecting py4j==0.10.9.5\n",
            "  Downloading py4j-0.10.9.5-py2.py3-none-any.whl (199 kB)\n",
            "\u001b[K     |████████████████████████████████| 199 kB 42.6 MB/s \n",
            "\u001b[?25hBuilding wheels for collected packages: pyspark\n",
            "  Building wheel for pyspark (setup.py) ... \u001b[?25l\u001b[?25hdone\n",
            "  Created wheel for pyspark: filename=pyspark-3.3.1-py2.py3-none-any.whl size=281845513 sha256=879ba05c254cdfcab8ec7b4be98fe334971846ce7e9ba04b777f764ff90222eb\n",
            "  Stored in directory: /root/.cache/pip/wheels/42/59/f5/79a5bf931714dcd201b26025347785f087370a10a3329a899c\n",
            "Successfully built pyspark\n",
            "Installing collected packages: py4j, pyspark\n",
            "Successfully installed py4j-0.10.9.5 pyspark-3.3.1\n",
            "E: Command line option 'l' [from -qql] is not understood in combination with the other options.\n"
          ]
        }
      ],
      "source": [
        "!pip install pyspark\n",
        "!apt install openjdk-8-jdk-headless -qql"
      ]
    },
    {
      "cell_type": "code",
      "source": [
        "import pyspark\n",
        "from pyspark.sql import *"
      ],
      "metadata": {
        "id": "4tFlrm_WVkbz"
      },
      "execution_count": null,
      "outputs": []
    },
    {
      "cell_type": "code",
      "source": [
        "spark = SparkSession.builder.getOrCreate()\n",
        "from pyspark.sql.types import *"
      ],
      "metadata": {
        "id": "dXirrTsBVmqo"
      },
      "execution_count": null,
      "outputs": []
    },
    {
      "cell_type": "code",
      "source": [
        "from pyspark.ml.feature import VectorAssembler\n",
        "from pyspark.ml.regression import LinearRegression\n",
        "\n",
        "#inferSchema : 데이터의 스키마를 찾아주는 옵션\n",
        "dataset = spark.read.csv(\"/content/drive/MyDrive/3-2 university/Big_data_process_and_application/input/boston.csv\", inferSchema=True, header=True)"
      ],
      "metadata": {
        "id": "ClZr4m0OVsZc"
      },
      "execution_count": null,
      "outputs": []
    },
    {
      "cell_type": "code",
      "source": [
        "#모든 피처를 하나의 벡터 열에 입력\n",
        "assembler = VectorAssembler(inputCols=[\"CRIM\", \"ZN\",\"INDUS\",\"CHAS\",\"NOX\",\"RM\",\n",
        "                                       \"AGE\",\"DIS\",\"RAD\",\"TAX\",\"PTRATIO\",\"B\",\"LSTAT\"],\n",
        "                            outputCol = \"Attributes\")\n",
        "\n",
        "output = assembler.transform(dataset)\n",
        "\n",
        "#input, output\n",
        "finalized_data = output.select(\"Attributes\", \"MEDV\")\n",
        "\n",
        "finalized_data.show()"
      ],
      "metadata": {
        "colab": {
          "base_uri": "https://localhost:8080/"
        },
        "id": "T9QOI2eZWJ5x",
        "outputId": "3fb8db56-3e1b-4884-e8b9-ec2bb35441f4"
      },
      "execution_count": null,
      "outputs": [
        {
          "output_type": "stream",
          "name": "stdout",
          "text": [
            "+--------------------+----+\n",
            "|          Attributes|MEDV|\n",
            "+--------------------+----+\n",
            "|[0.00632,18.0,2.3...|24.0|\n",
            "|[0.02731,0.0,7.07...|21.6|\n",
            "|[0.02729,0.0,7.07...|34.7|\n",
            "|[0.03237,0.0,2.18...|33.4|\n",
            "|[0.06905,0.0,2.18...|36.2|\n",
            "|[0.02985,0.0,2.18...|28.7|\n",
            "|[0.08829,12.5,7.8...|22.9|\n",
            "|[0.14455,12.5,7.8...|27.1|\n",
            "|[0.21124,12.5,7.8...|16.5|\n",
            "|[0.17004,12.5,7.8...|18.9|\n",
            "|[0.22489,12.5,7.8...|15.0|\n",
            "|[0.11747,12.5,7.8...|18.9|\n",
            "|[0.09378,12.5,7.8...|21.7|\n",
            "|[0.62976,0.0,8.14...|20.4|\n",
            "|[0.63796,0.0,8.14...|18.2|\n",
            "|[0.62739,0.0,8.14...|19.9|\n",
            "|[1.05393,0.0,8.14...|23.1|\n",
            "|[0.7842,0.0,8.14,...|17.5|\n",
            "|[0.80271,0.0,8.14...|20.2|\n",
            "|[0.7258,0.0,8.14,...|18.2|\n",
            "+--------------------+----+\n",
            "only showing top 20 rows\n",
            "\n"
          ]
        }
      ]
    },
    {
      "cell_type": "code",
      "source": [
        "#8:2로 train_data, test_data split\n",
        "train_data, test_data = finalized_data.randomSplit([0.8, 0.2])\n",
        "\n",
        "regressor = LinearRegression(featuresCol = \"Attributes\", labelCol = \"MEDV\")\n",
        "\n",
        "#train_data set 학습\n",
        "regressor = regressor.fit(train_data)\n",
        "\n",
        "#test_data set 예측\n",
        "pred = regressor.evaluate(test_data)\n",
        "\n",
        "#모델 예측\n",
        "pred.predictions.show()"
      ],
      "metadata": {
        "colab": {
          "base_uri": "https://localhost:8080/"
        },
        "id": "bG0v04R4W4q3",
        "outputId": "f7febf94-453d-47c2-c405-048649286c94"
      },
      "execution_count": null,
      "outputs": [
        {
          "output_type": "stream",
          "name": "stdout",
          "text": [
            "+--------------------+----+------------------+\n",
            "|          Attributes|MEDV|        prediction|\n",
            "+--------------------+----+------------------+\n",
            "|[0.01096,55.0,2.2...|22.0| 27.82323837668836|\n",
            "|[0.01951,17.5,1.3...|33.0|23.348356214185756|\n",
            "|[0.02009,95.0,2.6...|50.0|   43.795087275146|\n",
            "|[0.02985,0.0,2.18...|28.7|25.145950151002484|\n",
            "|[0.03445,82.5,2.0...|24.1| 30.03546904967881|\n",
            "|[0.03615,80.0,4.9...|27.9| 32.07362659391295|\n",
            "|[0.03768,80.0,1.5...|34.6| 35.49421860623207|\n",
            "|[0.03961,0.0,5.19...|21.1| 20.23758385528349|\n",
            "|[0.04011,80.0,1.5...|33.3| 36.87621271272494|\n",
            "|[0.04301,80.0,1.9...|18.2|14.434375688867455|\n",
            "|[0.04379,80.0,3.3...|19.4|26.124580458852698|\n",
            "|[0.0459,52.5,5.32...|22.3| 27.54385172577473|\n",
            "|[0.05302,0.0,3.41...|28.7|30.805674022874197|\n",
            "|[0.0536,21.0,5.64...|25.0| 27.60494789337492|\n",
            "|[0.05644,40.0,6.4...|32.4|35.386816290762894|\n",
            "|[0.05646,0.0,12.8...|21.2| 21.21217038063563|\n",
            "|[0.0578,0.0,2.46,...|37.2|32.842653412179246|\n",
            "|[0.06151,0.0,5.19...|18.7|21.194522513363086|\n",
            "|[0.06466,70.0,2.2...|22.5|29.648910560552398|\n",
            "|[0.06642,0.0,4.05...|29.9|31.531201579373445|\n",
            "+--------------------+----+------------------+\n",
            "only showing top 20 rows\n",
            "\n"
          ]
        }
      ]
    },
    {
      "cell_type": "code",
      "source": [
        "#회귀 모형의 계수\n",
        "coeff = regressor.coefficients\n",
        "\n",
        "#X, Y 절편\n",
        "intr = regressor.intercept\n",
        "\n",
        "print(\"The coefficient of the model is : %a\" %coeff)\n",
        "print(\"The intercept of the model is : %f\" %intr)"
      ],
      "metadata": {
        "colab": {
          "base_uri": "https://localhost:8080/"
        },
        "id": "fwLDK4IJXSti",
        "outputId": "d8f36727-3c84-4d57-9451-ada0e7e4789c"
      },
      "execution_count": null,
      "outputs": [
        {
          "output_type": "stream",
          "name": "stdout",
          "text": [
            "The coefficient of the model is : DenseVector([-0.1231, 0.0534, 0.0177, 1.8703, -18.4318, 3.7448, 0.0057, -1.4893, 0.2903, -0.012, -1.0213, 0.0073, -0.521])\n",
            "The intercept of the model is : 38.875134\n"
          ]
        }
      ]
    },
    {
      "cell_type": "code",
      "source": [
        "from pyspark.ml.evaluation import RegressionEvaluator\n",
        "eval = RegressionEvaluator(labelCol = \"MEDV\", predictionCol='prediction', metricName='rmse')\n",
        "\n",
        "#Root Mean Square Error\n",
        "rmse = eval.evaluate(pred.predictions)\n",
        "print(\"RMSE : %.3f\" %rmse)\n",
        "\n",
        "#Mean Square Error\n",
        "mse = eval.evaluate(pred.predictions, {eval.metricName : \"mse\"})\n",
        "print(\"MSE : %.3f\" %mse)\n",
        "\n",
        "#Mean Absolute Error\n",
        "mae = eval.evaluate(pred.predictions, {eval.metricName : \"mae\"})\n",
        "print(\"MAE : %.3f\" %mae)\n",
        "\n",
        "#r2 - coefficient of determination\n",
        "r2 = eval.evaluate(pred.predictions, {eval.metricName : \"r2\"})\n",
        "print(\"r2 : %.3f\" %r2)"
      ],
      "metadata": {
        "colab": {
          "base_uri": "https://localhost:8080/"
        },
        "id": "FJWSdYP6Xk_a",
        "outputId": "bd3116d3-7c87-4696-8052-16976a1c5709"
      },
      "execution_count": null,
      "outputs": [
        {
          "output_type": "stream",
          "name": "stdout",
          "text": [
            "RMSE : 5.183\n",
            "MSE : 26.862\n",
            "MAE : 3.626\n",
            "r2 : 0.678\n"
          ]
        }
      ]
    },
    {
      "cell_type": "code",
      "source": [],
      "metadata": {
        "id": "IWk-qOANYPnZ"
      },
      "execution_count": null,
      "outputs": []
    }
  ]
}